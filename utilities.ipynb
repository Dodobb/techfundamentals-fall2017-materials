{
 "cells": [
  {
   "cell_type": "markdown",
   "metadata": {},
   "source": [
    "## Check Current Directory\n",
    "The `pwd` command will checking you are entering commands from the appropriate directory. \n",
    "\n",
    "This should output '/home/jovyan/techfundamentals-fall2017-materials.'   "
   ]
  },
  {
   "cell_type": "code",
   "execution_count": null,
   "metadata": {
    "collapsed": true
   },
   "outputs": [],
   "source": [
    "%%bash\n",
    "pwd"
   ]
  },
  {
   "cell_type": "markdown",
   "metadata": {},
   "source": [
    "## Pull Changes from the `techfundamentals-materials` Repository\n",
    "This could work in many cases, but you will find that it will likely fail if you have actively run through some examples.  I've committed some of the files that were previously changed. This is one challenge in working with Jupyter notebooks, as they are subject to this issue. \n"
   ]
  },
  {
   "cell_type": "code",
   "execution_count": null,
   "metadata": {
    "collapsed": true
   },
   "outputs": [],
   "source": [
    "%%bash\n",
    "git pull"
   ]
  },
  {
   "cell_type": "markdown",
   "metadata": {
    "collapsed": true
   },
   "source": [
    "## Stash Changes and then Pull\n",
    "Because the materials directory is not used for assignments, it should be OK to go through and wipe out your local changes.   \n",
    "\n",
    "Here is a bit of a more detailed description though of how to \n",
    "\n",
    "Type 1. Staged Tracked files\n",
    "Type 2. Unstaged Tracked files\n",
    "Type 3. Unstaged UnTracked files a.k.a UnTracked files\n",
    "\n",
    "Staged - Those that are moved to staging area/ Added to index\n",
    "Tracked - modified files\n",
    "UnTracked - new files. Always unstaged. If staged, that means they are tracked.\n",
    "\n",
    "What each commands do:\n",
    "git checkout . - Removes Unstaged Tracked files ONLY [Type 2]\n",
    "git clean -f - Removes Unstaged UnTracked files ONLY [Type 3]\n",
    "git reset --hard - Removes Staged Tracked and UnStaged Tracked files ONLY[Type 1, Type 2]\n",
    "git stash -u - Removes all changes [Type 1, Type 2, Type 3]\n",
    "\n",
    "** Warning: This will discard the local changes and pull the new files. **"
   ]
  },
  {
   "cell_type": "code",
   "execution_count": null,
   "metadata": {
    "collapsed": true
   },
   "outputs": [],
   "source": [
    "%%bash\n",
    "git stash -u\n",
    "git pull"
   ]
  },
  {
   "cell_type": "markdown",
   "metadata": {},
   "source": [
    "## Cloning a New Repository\n",
    "This is an easy way of cloning a new repository."
   ]
  },
  {
   "cell_type": "code",
   "execution_count": null,
   "metadata": {
    "collapsed": true
   },
   "outputs": [],
   "source": [
    "repository=\"https://github.com/jupyterhub/helm-chart\""
   ]
  },
  {
   "cell_type": "code",
   "execution_count": null,
   "metadata": {
    "collapsed": true
   },
   "outputs": [],
   "source": [
    "%%bash -s \"$repository\"\n",
    "cd ..\n",
    "git clone $1\n"
   ]
  },
  {
   "cell_type": "markdown",
   "metadata": {},
   "source": [
    "## Committing Your Changes Changes\n",
    "- Want to commit and your changes?  OK, we are making it easier on you here.  Fill in your commit message.\n",
    "- Just now go to a terminal and use the `git push` command and it will prompt you for your password and push the changes (we can't do that directly here.)"
   ]
  },
  {
   "cell_type": "code",
   "execution_count": null,
   "metadata": {
    "collapsed": true
   },
   "outputs": [],
   "source": [
    "commitmessage=\"Finished Update for Homework 2.\" "
   ]
  },
  {
   "cell_type": "code",
   "execution_count": null,
   "metadata": {
    "collapsed": true
   },
   "outputs": [],
   "source": [
    "%%bash -s \"$repository\" \"$commitmessage\"\n",
    "cd ../$1\n",
    "git add -A\n",
    "git commit -m $2\n",
    "#\n"
   ]
  },
  {
   "cell_type": "markdown",
   "metadata": {},
   "source": [
    "## Deleting the Repository and Recloneing\n",
    "This is a way of deleting a repository to start over. \n",
    "\n",
    "**Warning, this will delete your repository and start over.**"
   ]
  },
  {
   "cell_type": "code",
   "execution_count": null,
   "metadata": {
    "collapsed": true
   },
   "outputs": [],
   "source": [
    "%%bash -s \"$repository\"\n",
    "cd ..\n",
    "rm -rf $1\n",
    "git clone $1"
   ]
  },
  {
   "cell_type": "markdown",
   "metadata": {},
   "source": [
    "## Converting Files from Jupyter to REVEAL.JS\n",
    "Jupyter can convert files to a Reveal.JS presentation. [Reveal.JS](http://lab.hakim.se/reveal-js/#/) is a broader way of making presentations HTML friendly. \n",
    "\n",
    "You convert from Jupyter to a presentation via [nbconvert](https://nbconvert.readthedocs.io)."
   ]
  },
  {
   "cell_type": "code",
   "execution_count": 2,
   "metadata": {},
   "outputs": [
    {
     "data": {
      "text/plain": [
       "'classes/02-intro-python/*.ipynb'"
      ]
     },
     "execution_count": 2,
     "metadata": {},
     "output_type": "execute_result"
    }
   ],
   "source": [
    "directory=\"classes\"\n",
    "subdirectory=\"02-intro-python\"\n",
    "d=directory+\"/\"+subdirectory+\"/*.ipynb\"\n",
    "d\n"
   ]
  },
  {
   "cell_type": "code",
   "execution_count": 3,
   "metadata": {},
   "outputs": [
    {
     "name": "stderr",
     "output_type": "stream",
     "text": [
      "[NbConvertApp] Converting notebook classes/02-intro-python/01-intro-python-overview.ipynb to slides\n",
      "[NbConvertApp] Writing 285675 bytes to classes/02-intro-python/01-intro-python-overview.slides.html\n",
      "[NbConvertApp] Converting notebook classes/02-intro-python/02-intro-python-datastructures.ipynb to slides\n",
      "[NbConvertApp] Writing 303185 bytes to classes/02-intro-python/02-intro-python-datastructures.slides.html\n",
      "[NbConvertApp] Converting notebook classes/02-intro-python/03-intro-python-numpy.ipynb to slides\n",
      "[NbConvertApp] Writing 279922 bytes to classes/02-intro-python/03-intro-python-numpy.slides.html\n",
      "[NbConvertApp] Converting notebook classes/02-intro-python/04-intro-python-pandas.ipynb to slides\n",
      "[NbConvertApp] Writing 470949 bytes to classes/02-intro-python/04-intro-python-pandas.slides.html\n"
     ]
    }
   ],
   "source": [
    "%%bash -s \"$d\"\n",
    "for file in $1\n",
    "  do\n",
    "    jupyter  nbconvert --to slides \"$file\" --reveal-prefix \"http://cdn.jsdelivr.net/reveal.js/3.0.0\"\n",
    "  done"
   ]
  },
  {
   "cell_type": "code",
   "execution_count": null,
   "metadata": {
    "collapsed": true
   },
   "outputs": [],
   "source": [
    "#TBD Publish to website."
   ]
  }
 ],
 "metadata": {
  "anaconda-cloud": {},
  "kernelspec": {
   "display_name": "Python [conda root]",
   "language": "python",
   "name": "conda-root-py"
  },
  "language_info": {
   "codemirror_mode": {
    "name": "ipython",
    "version": 3
   },
   "file_extension": ".py",
   "mimetype": "text/x-python",
   "name": "python",
   "nbconvert_exporter": "python",
   "pygments_lexer": "ipython3",
   "version": "3.5.2"
  }
 },
 "nbformat": 4,
 "nbformat_minor": 2
}
