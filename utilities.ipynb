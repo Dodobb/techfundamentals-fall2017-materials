{
 "cells": [
  {
   "cell_type": "markdown",
   "metadata": {},
   "source": [
    "## Check Current Directory\n",
    "The `pwd` command will checking you are entering commands from the appropriate directory. \n",
    "\n",
    "This should output '/home/jovyan/techfundamentals-fall2017-materials.'   "
   ]
  },
  {
   "cell_type": "code",
   "execution_count": 1,
   "metadata": {},
   "outputs": [
    {
     "name": "stdout",
     "output_type": "stream",
     "text": [
      "/home/jovyan/techfundamentals-fall2017-materials\n"
     ]
    }
   ],
   "source": [
    "%%bash\n",
    "pwd"
   ]
  },
  {
   "cell_type": "markdown",
   "metadata": {},
   "source": [
    "## Pull Changes from the `techfundamentals-materials` Repository\n",
    "This could work in many cases, but you will find that it will likely fail if you have actively run through some examples.  I've committed some of the files that were previously changed. This is one challenge in working with Jupyter notebooks, as they are subject to this issue. \n"
   ]
  },
  {
   "cell_type": "code",
   "execution_count": 2,
   "metadata": {},
   "outputs": [
    {
     "name": "stdout",
     "output_type": "stream",
     "text": [
      "Updating 8ba2b16..2d3de25\n"
     ]
    },
    {
     "name": "stderr",
     "output_type": "stream",
     "text": [
      "From https://github.com/jkuruzovich/techfundamentals-fall2017-materials\n",
      "   8ba2b16..2d3de25  master     -> origin/master\n",
      "error: Your local changes to the following files would be overwritten by merge:\n",
      "\tclasses/01-overview/01-notebook-basics/Notebook/01-What is the Jupyter Notebook.ipynb\n",
      "\tclasses/01-overview/02-version-control.ipynb\n",
      "Please, commit your changes or stash them before you can merge.\n",
      "Aborting\n"
     ]
    }
   ],
   "source": [
    "%%bash\n",
    "git pull"
   ]
  },
  {
   "cell_type": "markdown",
   "metadata": {
    "collapsed": true
   },
   "source": [
    "## Stash Changes and then Pull\n",
    "Because the materials directory is not used for assignments, it should be OK to go through and wipe out your local changes.   \n",
    "\n",
    "Here is a bit of a more detailed description though of how to \n",
    "\n",
    "Type 1. Staged Tracked files\n",
    "Type 2. Unstaged Tracked files\n",
    "Type 3. Unstaged UnTracked files a.k.a UnTracked files\n",
    "\n",
    "Staged - Those that are moved to staging area/ Added to index\n",
    "Tracked - modified files\n",
    "UnTracked - new files. Always unstaged. If staged, that means they are tracked.\n",
    "\n",
    "What each commands do:\n",
    "git checkout . - Removes Unstaged Tracked files ONLY [Type 2]\n",
    "git clean -f - Removes Unstaged UnTracked files ONLY [Type 3]\n",
    "git reset --hard - Removes Staged Tracked and UnStaged Tracked files ONLY[Type 1, Type 2]\n",
    "git stash -u - Removes all changes [Type 1, Type 2, Type 3]\n",
    "\n",
    "** Warning: This will discard the local changes and pull the new files. **"
   ]
  },
  {
   "cell_type": "markdown",
   "metadata": {},
   "source": [
    "## Cloning a New Repository\n",
    "This is an easy way of cloning a new repository."
   ]
  },
  {
   "cell_type": "code",
   "execution_count": 25,
   "metadata": {
    "collapsed": true
   },
   "outputs": [],
   "source": [
    "repository=\"https://github.com/jupyterhub/helm-chart\""
   ]
  },
  {
   "cell_type": "code",
   "execution_count": 27,
   "metadata": {},
   "outputs": [
    {
     "name": "stdout",
     "output_type": "stream",
     "text": [
      "/Users/jasonkuruzovich/githubdesktop/0_class\n"
     ]
    },
    {
     "name": "stderr",
     "output_type": "stream",
     "text": [
      "fatal: repository '$repository' does not exist\n"
     ]
    }
   ],
   "source": [
    "%%bash -s \"$repository\"\n",
    "cd ..\n",
    "pwd\n",
    "git clone $1\n"
   ]
  },
  {
   "cell_type": "markdown",
   "metadata": {},
   "source": [
    "## Deleting the Repository\n",
    "This is a way of deleting a repository to start over. "
   ]
  },
  {
   "cell_type": "code",
   "execution_count": 28,
   "metadata": {
    "collapsed": true
   },
   "outputs": [],
   "source": [
    "%%bash -s \"$repository\"\n",
    "cd ..\n",
    "rm -rf $1"
   ]
  },
  {
   "cell_type": "markdown",
   "metadata": {},
   "source": [
    "## Converting Files from Jupyter to REVEAL.JS\n",
    "Jupyter can convert files to a Reveal.JS presentation. [Reveal.JS](http://lab.hakim.se/reveal-js/#/) is a broader way of making presentations HTML friendly. \n",
    "\n",
    "You convert from Jupyter to a presentation via [nbconvert](https://nbconvert.readthedocs.io)."
   ]
  },
  {
   "cell_type": "code",
   "execution_count": 16,
   "metadata": {},
   "outputs": [
    {
     "data": {
      "text/plain": [
       "'classes/02-intro-python/*.ipynb'"
      ]
     },
     "execution_count": 16,
     "metadata": {},
     "output_type": "execute_result"
    }
   ],
   "source": [
    "directory=\"classes\"\n",
    "subdirectory=\"02-intro-python\"\n",
    "d=directory+\"/\"+subdirectory+\"/*.ipynb\"\n",
    "d\n"
   ]
  },
  {
   "cell_type": "code",
   "execution_count": 17,
   "metadata": {},
   "outputs": [
    {
     "name": "stderr",
     "output_type": "stream",
     "text": [
      "[NbConvertApp] Converting notebook classes/02-intro-python/01-intro-python-overview.ipynb to slides\n",
      "[NbConvertApp] Writing 288775 bytes to classes/02-intro-python/01-intro-python-overview.slides.html\n",
      "[NbConvertApp] Converting notebook classes/02-intro-python/02-intro-python-datastructures.ipynb to slides\n",
      "[NbConvertApp] Writing 313116 bytes to classes/02-intro-python/02-intro-python-datastructures.slides.html\n",
      "[NbConvertApp] Converting notebook classes/02-intro-python/03-intro-python-numpy.ipynb to slides\n",
      "[NbConvertApp] Writing 304809 bytes to classes/02-intro-python/03-intro-python-numpy.slides.html\n",
      "[NbConvertApp] Converting notebook classes/02-intro-python/04-intro-python-pandas.ipynb to slides\n",
      "[NbConvertApp] Writing 435683 bytes to classes/02-intro-python/04-intro-python-pandas.slides.html\n",
      "[NbConvertApp] Converting notebook classes/02-intro-python/ConvertSlides.ipynb to slides\n",
      "[NbConvertApp] Writing 260494 bytes to classes/02-intro-python/ConvertSlides.slides.html\n",
      "[NbConvertApp] Converting notebook classes/02-intro-python/PythonBasics.ipynb to slides\n",
      "[NbConvertApp] Writing 273302 bytes to classes/02-intro-python/PythonBasics.slides.html\n",
      "[NbConvertApp] Converting notebook classes/02-intro-python/intro-python-exercises.ipynb to slides\n",
      "[NbConvertApp] Writing 295618 bytes to classes/02-intro-python/intro-python-exercises.slides.html\n",
      "[NbConvertApp] Converting notebook classes/02-intro-python/intro-python-webmining.ipynb to slides\n",
      "[NbConvertApp] Writing 354353 bytes to classes/02-intro-python/intro-python-webmining.slides.html\n"
     ]
    }
   ],
   "source": [
    "%%bash -s \"$d\"\n",
    "for file in $1\n",
    "  do\n",
    "    jupyter  nbconvert --to slides \"$file\" --reveal-prefix \"http://cdn.jsdelivr.net/reveal.js/3.0.0\"\n",
    "  done"
   ]
  },
  {
   "cell_type": "code",
   "execution_count": null,
   "metadata": {
    "collapsed": true
   },
   "outputs": [],
   "source": [
    "#TBD Publish to website."
   ]
  }
 ],
 "metadata": {
  "anaconda-cloud": {},
  "kernelspec": {
   "display_name": "Python [conda root]",
   "language": "python",
   "name": "conda-root-py"
  },
  "language_info": {
   "codemirror_mode": {
    "name": "ipython",
    "version": 3
   },
   "file_extension": ".py",
   "mimetype": "text/x-python",
   "name": "python",
   "nbconvert_exporter": "python",
   "pygments_lexer": "ipython3",
   "version": "3.5.2"
  }
 },
 "nbformat": 4,
 "nbformat_minor": 2
}
