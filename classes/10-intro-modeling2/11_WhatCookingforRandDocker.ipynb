{
 "cells": [
  {
   "cell_type": "markdown",
   "metadata": {},
   "source": [
    "# What is cooking introduction in R\n",
    "Adopted from:\n",
    "https://www.kaggle.com/amhchiu/whats-cooking/bag-of-ingredients-in-r/code\n"
   ]
  },
  {
   "cell_type": "code",
   "execution_count": 1,
   "metadata": {
    "collapsed": false
   },
   "outputs": [
    {
     "name": "stderr",
     "output_type": "stream",
     "text": [
      "Updating HTML index of packages in '.Library'\n",
      "Making 'packages.html' ... done\n",
      "Updating HTML index of packages in '.Library'\n",
      "Making 'packages.html' ... done\n",
      "Updating HTML index of packages in '.Library'\n",
      "Making 'packages.html' ... done\n",
      "also installing the dependencies ‘NLP’, ‘slam’\n",
      "\n",
      "Updating HTML index of packages in '.Library'\n",
      "Making 'packages.html' ... done\n",
      "also installing the dependency ‘ModelMetrics’\n",
      "\n",
      "Updating HTML index of packages in '.Library'\n",
      "Making 'packages.html' ... done\n",
      "Updating HTML index of packages in '.Library'\n",
      "Making 'packages.html' ... done\n",
      "Updating HTML index of packages in '.Library'\n",
      "Making 'packages.html' ... done\n"
     ]
    }
   ],
   "source": [
    "install.packages(\"rpart.plot\", repos=\"http://cran.rstudio.com/\")\n",
    "install.packages(\"RJSONIO\", repos=\"http://cran.rstudio.com/\")\n",
    "install.packages(\"dplyr\", repos=\"http://cran.rstudio.com/\")\n",
    "install.packages(\"tm\", repos=\"http://cran.rstudio.com/\")\n",
    "install.packages(\"caret\", repos=\"http://cran.rstudio.com/\")\n",
    "install.packages(\"ggplot2\", repos=\"http://cran.rstudio.com/\")\n",
    "install.packages('randomForest', repos=\"http://cran.rstudio.com/\")"
   ]
  },
  {
   "cell_type": "code",
   "execution_count": 3,
   "metadata": {
    "collapsed": false
   },
   "outputs": [
    {
     "name": "stderr",
     "output_type": "stream",
     "text": [
      "\n",
      "Attaching package: ‘dplyr’\n",
      "\n",
      "The following object is masked from ‘package:randomForest’:\n",
      "\n",
      "    combine\n",
      "\n",
      "The following objects are masked from ‘package:stats’:\n",
      "\n",
      "    filter, lag\n",
      "\n",
      "The following objects are masked from ‘package:base’:\n",
      "\n",
      "    intersect, setdiff, setequal, union\n",
      "\n",
      "\n",
      "Attaching package: ‘ggplot2’\n",
      "\n",
      "The following object is masked from ‘package:randomForest’:\n",
      "\n",
      "    margin\n",
      "\n",
      "Loading required package: NLP\n",
      "\n",
      "Attaching package: ‘NLP’\n",
      "\n",
      "The following object is masked from ‘package:ggplot2’:\n",
      "\n",
      "    annotate\n",
      "\n",
      "Loading required package: lattice\n"
     ]
    }
   ],
   "source": [
    "library(randomForest)\n",
    "library(RJSONIO)\n",
    "library(dplyr)\n",
    "library(ggplot2)\n",
    "library(tm) # For NLP; creating bag-of-words\n",
    "library(caret)\n",
    "library(rpart)\n",
    "library(rpart.plot)"
   ]
  },
  {
   "cell_type": "code",
   "execution_count": 10,
   "metadata": {
    "collapsed": false
   },
   "outputs": [],
   "source": [
    "test <- fromJSON(\"test.json\", flatten = TRUE)\n",
    "train <- fromJSON(\"train.json\", flatten = TRUE)\n"
   ]
  },
  {
   "cell_type": "code",
   "execution_count": 14,
   "metadata": {
    "collapsed": false
   },
   "outputs": [
    {
     "name": "stderr",
     "output_type": "stream",
     "text": [
      "Updating HTML index of packages in '.Library'\n",
      "Making 'packages.html' ... done\n"
     ]
    }
   ],
   "source": [
    "install.packages('jsonlite', repos=\"http://cran.rstudio.com/\")\n"
   ]
  },
  {
   "cell_type": "code",
   "execution_count": 12,
   "metadata": {
    "collapsed": false
   },
   "outputs": [
    {
     "ename": "ERROR",
     "evalue": "Error: ggplot2 doesn't know how to deal with data of class list\n",
     "output_type": "error",
     "traceback": [
      "Error: ggplot2 doesn't know how to deal with data of class list\nTraceback:\n",
      "1. ggplot(data = train, aes(x = cuisine))",
      "2. ggplot.default(data = train, aes(x = cuisine))",
      "3. ggplot.data.frame(fortify(data, ...), mapping, environment = environment)",
      "4. structure(list(data = data, layers = list(), scales = scales_list(), \n .     mapping = mapping, theme = list(), coordinates = coord_cartesian(), \n .     facet = facet_null(), plot_env = environment), class = c(\"gg\", \n .     \"ggplot\"))",
      "5. fortify(data, ...)",
      "6. fortify.default(data, ...)",
      "7. stop(\"ggplot2 doesn't know how to deal with data of class \", \n .     paste(class(model), collapse = \"/\"), call. = FALSE)"
     ]
    }
   ],
   "source": [
    "#Now let's take a look at the data. \n",
    "ggplot(data = train, aes(x = cuisine)) + \n",
    "  geom_histogram() +\n",
    "  labs(title = \"Cuisines\", x = \"Cuisine\", y = \"Number of Recipes\")"
   ]
  },
  {
   "cell_type": "code",
   "execution_count": 9,
   "metadata": {
    "collapsed": false,
    "scrolled": true
   },
   "outputs": [
    {
     "name": "stderr",
     "output_type": "stream",
     "text": [
      "Saving 14 x 14 in image\n"
     ]
    }
   ],
   "source": [
    "#Wow, that graph seemed interesting, but I can't read it.  Let's instead save it to a file. Much better.\n",
    "#First we assign the chart to an object. \n",
    "ggoutput<-ggplot(data = train, aes(x = cuisine)) + \n",
    "    geom_histogram() +\n",
    "    labs(title = \"Cuisines\", x = \"Cuisine\", y = \"Number of Recipes\")\n",
    "\n",
    "#This saves it to a file\n",
    "ggsave(ggoutput, file=\"ggoutput.pdf\", scale=2)"
   ]
  },
  {
   "cell_type": "code",
   "execution_count": 10,
   "metadata": {
    "collapsed": false
   },
   "outputs": [
    {
     "data": {
      "text/plain": [
       "\n",
       "   brazilian      british cajun_creole      chinese     filipino       french \n",
       "         467          804         1546         2673          755         2646 \n",
       "       greek       indian        irish      italian     jamaican     japanese \n",
       "        1175         3003          667         7838          526         1423 \n",
       "      korean      mexican     moroccan      russian  southern_us      spanish \n",
       "         830         6438          821          489         4320          989 \n",
       "        thai   vietnamese \n",
       "        1539          825 "
      ]
     },
     "execution_count": 10,
     "metadata": {},
     "output_type": "execute_result"
    }
   ],
   "source": [
    "#We also know how to aggregate to see this. \n",
    "table(train$cuisine)\n"
   ]
  },
  {
   "cell_type": "code",
   "execution_count": 11,
   "metadata": {
    "collapsed": false
   },
   "outputs": [],
   "source": [
    "#Let's create the Niave Model based on those results. \n",
    "test$cuisine =\"italian\""
   ]
  },
  {
   "cell_type": "code",
   "execution_count": 12,
   "metadata": {
    "collapsed": true
   },
   "outputs": [],
   "source": [
    "#Create Dataframe For Submission\n",
    "submission<-test[,c('id','cuisine')]\n",
    "\n",
    "#Naive Model (This is our benchmark. 0.19268 Accuracy and 693 place)  Boom. we just beat 17 people. \n",
    "write.csv(submission, \"submission.csv\", row.names=FALSE)\n",
    "\n"
   ]
  },
  {
   "cell_type": "code",
   "execution_count": 16,
   "metadata": {
    "collapsed": true
   },
   "outputs": [],
   "source": [
    "#Now let's start the process of creating a corpus\n",
    "MyCorpus <- Corpus(VectorSource(train$ingredients))\n",
    "MyCorpus2 <- Corpus(VectorSource(test$ingredients))\n"
   ]
  },
  {
   "cell_type": "code",
   "execution_count": 17,
   "metadata": {
    "collapsed": false
   },
   "outputs": [],
   "source": [
    "#Observe the corpus before and after this. \n",
    "MyCorpus <- tm_map(MyCorpus, stemDocument, lazy=TRUE)\n",
    "MyCorpus2 <- tm_map(MyCorpus2, stemDocument, lazy=TRUE)"
   ]
  },
  {
   "cell_type": "code",
   "execution_count": 18,
   "metadata": {
    "collapsed": false
   },
   "outputs": [
    {
     "name": "stderr",
     "output_type": "stream",
     "text": [
      "Warning message:\n",
      "In mclapply(x$content[i], function(d) tm_reduce(d, x$lazy$maps)): all scheduled cores encountered errors in user codeWarning message:\n",
      "In mclapply(unname(content(x)), termFreq, control): all scheduled cores encountered errors in user code"
     ]
    },
    {
     "ename": "ERROR",
     "evalue": "Error in UseMethod(\"meta\", x): no applicable method for 'meta' applied to an object of class \"try-error\"\n",
     "output_type": "error",
     "traceback": [
      "Error in UseMethod(\"meta\", x): no applicable method for 'meta' applied to an object of class \"try-error\"\n"
     ]
    },
    {
     "name": "stderr",
     "output_type": "stream",
     "text": [
      "Warning message:\n",
      "In mclapply(x$content[i], function(d) tm_reduce(d, x$lazy$maps)): all scheduled cores encountered errors in user codeWarning message:\n",
      "In mclapply(unname(content(x)), termFreq, control): all scheduled cores encountered errors in user code"
     ]
    },
    {
     "ename": "ERROR",
     "evalue": "Error in UseMethod(\"meta\", x): no applicable method for 'meta' applied to an object of class \"try-error\"\n",
     "output_type": "error",
     "traceback": [
      "Error in UseMethod(\"meta\", x): no applicable method for 'meta' applied to an object of class \"try-error\"\n"
     ]
    }
   ],
   "source": [
    "#This creates a Document Term Matrix. \n",
    "ingredientsDTM <- DocumentTermMatrix(MyCorpus)\n",
    "ingredientsDTM2 <- DocumentTermMatrix(MyCorpus2)"
   ]
  },
  {
   "cell_type": "code",
   "execution_count": 19,
   "metadata": {
    "collapsed": false
   },
   "outputs": [
    {
     "ename": "ERROR",
     "evalue": "Error in inherits(x, c(\"DocumentTermMatrix\", \"TermDocumentMatrix\")): object 'ingredientsDTM' not found\n",
     "output_type": "error",
     "traceback": [
      "Error in inherits(x, c(\"DocumentTermMatrix\", \"TermDocumentMatrix\")): object 'ingredientsDTM' not found\n"
     ]
    },
    {
     "ename": "ERROR",
     "evalue": "Error in inherits(x, c(\"DocumentTermMatrix\", \"TermDocumentMatrix\")): object 'ingredientsDTM2' not found\n",
     "output_type": "error",
     "traceback": [
      "Error in inherits(x, c(\"DocumentTermMatrix\", \"TermDocumentMatrix\")): object 'ingredientsDTM2' not found\n"
     ]
    }
   ],
   "source": [
    "#This removes most of the terms.  We are just going to start with a few. \n",
    "sparse <- removeSparseTerms(ingredientsDTM, 0.995)\n",
    "sparse2 <- removeSparseTerms(ingredientsDTM2, 0.995)"
   ]
  },
  {
   "cell_type": "code",
   "execution_count": 49,
   "metadata": {
    "collapsed": false
   },
   "outputs": [
    {
     "name": "stdout",
     "output_type": "stream",
     "text": [
      "<<VCorpus>>\n",
      "Metadata:  corpus specific: 0, document level (indexed): 0\n",
      "Content:  documents: 1\n",
      "\n",
      "[[1]]\n",
      "<<PlainTextDocument>>\n",
      "Metadata:  7\n",
      "Content:  chars: 108\n",
      "\n"
     ]
    }
   ],
   "source": [
    "#This goes through the process of changing out term document matrix to a data frame we can use for marketing\n",
    "ingredientsDTM <- as.data.frame(as.matrix(sparse))\n",
    "ingredientsDTM2 <- as.data.frame(as.matrix(sparse2))"
   ]
  },
  {
   "cell_type": "code",
   "execution_count": 38,
   "metadata": {
    "collapsed": false
   },
   "outputs": [],
   "source": [
    "#We have a problem though....We only want to use terms \n",
    "trainColumns<-names(ingredientsDTM)\n",
    "testColumns<-names(ingredientsDTM2)\n",
    "\n",
    "intersect<-intersect(trainColumns,testColumns)"
   ]
  },
  {
   "cell_type": "code",
   "execution_count": 42,
   "metadata": {
    "collapsed": false
   },
   "outputs": [
    {
     "name": "stderr",
     "output_type": "stream",
     "text": [
      "Warning message:\n",
      "In mclapply(unname(content(x)), termFreq, control): all scheduled cores encountered errors in user code"
     ]
    },
    {
     "ename": "ERROR",
     "evalue": "Error in UseMethod(\"meta\", x): no applicable method for 'meta' applied to an object of class \"try-error\"\n",
     "output_type": "error",
     "traceback": [
      "Error in UseMethod(\"meta\", x): no applicable method for 'meta' applied to an object of class \"try-error\"\n"
     ]
    }
   ],
   "source": [
    "#This removes about 10 columns that aren't in both. \n",
    "ingredientsDTM<- ingredientsDTM[,c(intersect)]\n",
    "ingredientsDTM2<- ingredientsDTM2[,c(intersect)]"
   ]
  },
  {
   "cell_type": "code",
   "execution_count": null,
   "metadata": {
    "collapsed": true
   },
   "outputs": [],
   "source": [
    "ingredientsDTM$cuisine <- as.factor(train$cuisine)"
   ]
  },
  {
   "cell_type": "code",
   "execution_count": null,
   "metadata": {
    "collapsed": true
   },
   "outputs": [],
   "source": [
    "set.seed(9347)\n",
    "cartModelFit <- rpart(cuisine ~ ., data = ingredientsDTM, method = \"class\")\n",
    "prp(cartModelFit)"
   ]
  },
  {
   "cell_type": "code",
   "execution_count": null,
   "metadata": {
    "collapsed": true
   },
   "outputs": [],
   "source": [
    "#This generates the class prediction.  \n",
    "cartPredict<-predict(cartModelFit, newdata = ingredientsDTM2, type = \"class\")"
   ]
  },
  {
   "cell_type": "code",
   "execution_count": null,
   "metadata": {
    "collapsed": true
   },
   "outputs": [],
   "source": [
    "#This creates our final submission data frame. \n",
    "submit <- data.frame(id = test$id, cuisine = cartPredict)\n",
    "\n",
    "#Tree  Now the accuracy is 0.40115.  We have improved!\n",
    "write.csv(submit, file = \"myfirstdtree.csv\", row.names = FALSE)\n"
   ]
  },
  {
   "cell_type": "code",
   "execution_count": null,
   "metadata": {
    "collapsed": true
   },
   "outputs": [],
   "source": [
    "#It seems that random forests package doesn't work with \"-\" in the column name. You can try yourself.\n",
    "names(ingredientsDTM) <- gsub(\"-\", \"\", names(ingredientsDTM))\n",
    "names(ingredientsDTM2) <- gsub(\"-\", \"\", names(ingredientsDTM2))"
   ]
  },
  {
   "cell_type": "code",
   "execution_count": null,
   "metadata": {
    "collapsed": true
   },
   "outputs": [],
   "source": [
    "#Boom with 1 tree we improved to an accuracy of  0.54354\n",
    "forestmodel <- randomForest(cuisine ~ ., data=ingredientsDTM, importance=TRUE, ntree=1)\n",
    "forestPredict<-predict(forestmodel, newdata = ingredientsDTM2, type = \"class\")\n",
    "\n"
   ]
  },
  {
   "cell_type": "code",
   "execution_count": null,
   "metadata": {
    "collapsed": true
   },
   "outputs": [],
   "source": [
    "#Create Submssion Data Frame\n",
    "submit3 <- data.frame(id = test$id, cuisine = forestPredict)\n",
    "write.csv(submit3, file = \"3_forest.csv\", row.names = FALSE)"
   ]
  },
  {
   "cell_type": "code",
   "execution_count": null,
   "metadata": {
    "collapsed": true
   },
   "outputs": [],
   "source": [
    "#Double boom with 100 trees we move up even further to  0.74387\n",
    "forestmodel <- randomForest(cuisine ~ ., data=ingredientsDTM, importance=TRUE, ntree=100)\n",
    "forestPredict<-predict(forestmodel, newdata = ingredientsDTM2, type = \"class\")"
   ]
  },
  {
   "cell_type": "code",
   "execution_count": null,
   "metadata": {
    "collapsed": true
   },
   "outputs": [],
   "source": [
    "#Create Submssion Data Frame\n",
    "submit4 <- data.frame(id = test$id, cuisine = forestPredict)\n",
    "write.csv(submit4, file = \"4_forest.csv\", row.names = FALSE)\n"
   ]
  },
  {
   "cell_type": "code",
   "execution_count": null,
   "metadata": {
    "collapsed": true
   },
   "outputs": [],
   "source": [
    "#Where to go next: \n",
    "#Let's try some more feature engineerning. \n",
    "ingredientsDTM$ingredients_count  <- rowSums(ingredientsDTM)\n",
    "\n",
    "#Another strategy could be to create a corpus from both the training and the test set. \n",
    "MyCorpus3  <- c(Corpus(VectorSource(train$ingredients)), Corpus(VectorSource(test$ingredients)))"
   ]
  }
 ],
 "metadata": {
  "kernelspec": {
   "display_name": "R",
   "language": "R",
   "name": "ir"
  },
  "language_info": {
   "codemirror_mode": "r",
   "file_extension": ".r",
   "mimetype": "text/x-r-source",
   "name": "R",
   "pygments_lexer": "r",
   "version": "3.3.1"
  }
 },
 "nbformat": 4,
 "nbformat_minor": 0
}
