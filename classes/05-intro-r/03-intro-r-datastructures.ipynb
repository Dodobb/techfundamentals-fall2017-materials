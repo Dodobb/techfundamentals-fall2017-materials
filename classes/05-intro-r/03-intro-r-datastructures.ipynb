{
 "cells": [
  {
   "cell_type": "markdown",
   "metadata": {
    "slideshow": {
     "slide_type": "slide"
    }
   },
   "source": [
    "[![AnalyticsDojo](https://s3.amazonaws.com/analyticsdojo/logo/final-logo.png)](http://rpi.analyticsdojo.com)\n",
    "<center><h1>Introduction to R - Datastructures</h1></center>\n",
    "<center><h3><a href = \"http://rpi.analyticsdojo.com\">rpi.analyticsdojo.com</a></h3></center>\n",
    "\n"
   ]
  },
  {
   "cell_type": "markdown",
   "metadata": {
    "slideshow": {
     "slide_type": "subslide"
    }
   },
   "source": [
    "# Overview\n",
    "Common to R and Python\n",
    "- Vectors\n",
    "- Opearations on Numeric and String Variables\n",
    "- Lists\n",
    "\n",
    "\n"
   ]
  },
  {
   "cell_type": "markdown",
   "metadata": {
    "slideshow": {
     "slide_type": "subslide"
    }
   },
   "source": [
    "## Vectors in R\n",
    "- The most basic form of an R object is a vector. \n",
    "- In fact, individual (scalar) values (variables) are vectors of length one.\n",
    "- An R vector is a single set of values in a particular order of the **same type**. \n",
    "- We can concatenate values into a vector with c(): `ages<-c(18,19,18,23)`\n",
    "- Comparable Python objects include Panda Series and single dimensional numpy array. \n",
    "- While Python arrays start at 0, R arrays start at index position 1. "
   ]
  },
  {
   "cell_type": "code",
   "execution_count": 1,
   "metadata": {},
   "outputs": [
    {
     "data": {
      "text/html": [
       "<ol class=list-inline>\n",
       "\t<li>18</li>\n",
       "\t<li>19</li>\n",
       "\t<li>18</li>\n",
       "\t<li>23</li>\n",
       "</ol>\n"
      ],
      "text/latex": [
       "\\begin{enumerate*}\n",
       "\\item 18\n",
       "\\item 19\n",
       "\\item 18\n",
       "\\item 23\n",
       "\\end{enumerate*}\n"
      ],
      "text/markdown": [
       "1. 18\n",
       "2. 19\n",
       "3. 18\n",
       "4. 23\n",
       "\n",
       "\n"
      ],
      "text/plain": [
       "[1] 18 19 18 23"
      ]
     },
     "metadata": {},
     "output_type": "display_data"
    },
    {
     "data": {
      "text/html": [
       "18"
      ],
      "text/latex": [
       "18"
      ],
      "text/markdown": [
       "18"
      ],
      "text/plain": [
       "[1] 18"
      ]
     },
     "metadata": {},
     "output_type": "display_data"
    },
    {
     "data": {
      "text/html": [
       "<ol class=list-inline>\n",
       "\t<li>19</li>\n",
       "\t<li>18</li>\n",
       "\t<li>23</li>\n",
       "</ol>\n"
      ],
      "text/latex": [
       "\\begin{enumerate*}\n",
       "\\item 19\n",
       "\\item 18\n",
       "\\item 23\n",
       "\\end{enumerate*}\n"
      ],
      "text/markdown": [
       "1. 19\n",
       "2. 18\n",
       "3. 23\n",
       "\n",
       "\n"
      ],
      "text/plain": [
       "[1] 19 18 23"
      ]
     },
     "metadata": {},
     "output_type": "display_data"
    }
   ],
   "source": [
    "\n",
    "ages<-c(18,19,18,23)\n",
    "ages\n",
    "ages[1]\n",
    "ages[2:4]\n",
    "\n"
   ]
  },
  {
   "cell_type": "markdown",
   "metadata": {
    "slideshow": {
     "slide_type": "subslide"
    }
   },
   "source": [
    "## Vectors Type in R\n",
    "- Items in a vector must be of the same type. \n",
    "- *Character.* These are the clear character vectors. (Typically use quotes to add to these vectors.)\n",
    "- *Numeric.* Numbers in a set. Note there is not a different type.\n",
    "- *Boolean.* TRUE or FALSE values in a set.\n",
    "- *Factor.* A situation in which there is a select set of options. Things such as states or zip codes. These are typically things which are related to dummy variables, a topic we will discuss later.\n",
    "- Determine the data type by using the `str` command: `str(teachers)`"
   ]
  },
  {
   "cell_type": "code",
   "execution_count": 2,
   "metadata": {},
   "outputs": [
    {
     "name": "stdout",
     "output_type": "stream",
     "text": [
      " chr [1:4] \"Sally\" \"Jason\" \"Bob\" \"Susy\"\n",
      " logi [1:4] TRUE FALSE FALSE TRUE\n",
      " chr [1:4] \"Smith\" \"Johnson\" \"Johnson\" \"Smith\"\n",
      " Factor w/ 2 levels \"Johnson\",\"Smith\": 2 1 1 2\n",
      " num [1:4] 20 15 13 19\n",
      " num [1:4] 20.3 15.3 13.1 19.3\n"
     ]
    }
   ],
   "source": [
    "names<-c(\"Sally\", \"Jason\", \"Bob\", \"Susy\") #Text\n",
    "female<-c(TRUE, FALSE, FALSE, TRUE)  #While Python uses True and False, R uses TRUE and FALSE.\n",
    "teachers<-c(\"Smith\", \"Johnson\", \"Johnson\", \"Smith\")\n",
    "teachers.f<-factor(teachers)\n",
    "grades<-c(20, 15, 13, 19) #25 points possible\n",
    "gradesdec<-c(20.32, 15.32, 13.12, 19.32) #25 points possible\n",
    "\n",
    "str(names)\n",
    "str(female)\n",
    "str(teachers)  \n",
    "str(teachers.f) \n",
    "str(grades)    #Note that the grades and gradesdec are both numeric.\n",
    "str(gradesdec) #Note that the grades and gradesdec are both numeric.\n"
   ]
  },
  {
   "cell_type": "markdown",
   "metadata": {
    "slideshow": {
     "slide_type": "subslide"
    }
   },
   "source": [
    "## Strings in R\n",
    "- Lot's of different types of operations we can perform on Strings. "
   ]
  },
  {
   "cell_type": "code",
   "execution_count": 3,
   "metadata": {},
   "outputs": [
    {
     "data": {
      "text/html": [
       "5"
      ],
      "text/latex": [
       "5"
      ],
      "text/markdown": [
       "5"
      ],
      "text/plain": [
       "[1] 5"
      ]
     },
     "metadata": {},
     "output_type": "display_data"
    },
    {
     "data": {
      "text/html": [
       "<ol class=list-inline>\n",
       "\t<li>2</li>\n",
       "\t<li>5</li>\n",
       "\t<li>8</li>\n",
       "\t<li>8</li>\n",
       "\t<li>13</li>\n",
       "</ol>\n"
      ],
      "text/latex": [
       "\\begin{enumerate*}\n",
       "\\item 2\n",
       "\\item 5\n",
       "\\item 8\n",
       "\\item 8\n",
       "\\item 13\n",
       "\\end{enumerate*}\n"
      ],
      "text/markdown": [
       "1. 2\n",
       "2. 5\n",
       "3. 8\n",
       "4. 8\n",
       "5. 13\n",
       "\n",
       "\n"
      ],
      "text/plain": [
       "[1]  2  5  8  8 13"
      ]
     },
     "metadata": {},
     "output_type": "display_data"
    },
    {
     "data": {
      "text/html": [
       "'bill clinton'"
      ],
      "text/latex": [
       "'bill clinton'"
      ],
      "text/markdown": [
       "'bill clinton'"
      ],
      "text/plain": [
       "[1] \"bill clinton\""
      ]
     },
     "metadata": {},
     "output_type": "display_data"
    },
    {
     "data": {
      "text/html": [
       "'hi hallo mother\\'s father's He said, 'hi''"
      ],
      "text/latex": [
       "'hi hallo mother\\textbackslash{}'s father's He said, 'hi''"
      ],
      "text/markdown": [
       "'hi hallo mother\\'s father's He said, 'hi''"
      ],
      "text/plain": [
       "[1] \"hi hallo mother's father's He said, 'hi'\""
      ]
     },
     "metadata": {},
     "output_type": "display_data"
    },
    {
     "data": {
      "text/html": [
       "<ol>\n",
       "\t<li><ol class=list-inline>\n",
       "\t<li>'This'</li>\n",
       "\t<li>'is'</li>\n",
       "\t<li>'the'</li>\n",
       "\t<li>'Analytics'</li>\n",
       "\t<li>'Dojo'</li>\n",
       "</ol>\n",
       "</li>\n",
       "</ol>\n"
      ],
      "text/latex": [
       "\\begin{enumerate}\n",
       "\\item \\begin{enumerate*}\n",
       "\\item 'This'\n",
       "\\item 'is'\n",
       "\\item 'the'\n",
       "\\item 'Analytics'\n",
       "\\item 'Dojo'\n",
       "\\end{enumerate*}\n",
       "\n",
       "\\end{enumerate}\n"
      ],
      "text/markdown": [
       "1. 1. 'This'\n",
       "2. 'is'\n",
       "3. 'the'\n",
       "4. 'Analytics'\n",
       "5. 'Dojo'\n",
       "\n",
       "\n",
       "\n",
       "\n",
       "\n"
      ],
      "text/plain": [
       "[[1]]\n",
       "[1] \"This\"      \"is\"        \"the\"       \"Analytics\" \"Dojo\"     \n"
      ]
     },
     "metadata": {},
     "output_type": "display_data"
    },
    {
     "data": {
      "text/html": [
       "<ol class=list-inline>\n",
       "\t<li>'i'</li>\n",
       "\t<li>'al'</li>\n",
       "\t<li>'ot'</li>\n",
       "\t<li>'at'</li>\n",
       "\t<li>'e '</li>\n",
       "</ol>\n"
      ],
      "text/latex": [
       "\\begin{enumerate*}\n",
       "\\item 'i'\n",
       "\\item 'al'\n",
       "\\item 'ot'\n",
       "\\item 'at'\n",
       "\\item 'e '\n",
       "\\end{enumerate*}\n"
      ],
      "text/markdown": [
       "1. 'i'\n",
       "2. 'al'\n",
       "3. 'ot'\n",
       "4. 'at'\n",
       "5. 'e '\n",
       "\n",
       "\n"
      ],
      "text/plain": [
       "[1] \"i\"  \"al\" \"ot\" \"at\" \"e \""
      ]
     },
     "metadata": {},
     "output_type": "display_data"
    },
    {
     "data": {
      "text/html": [
       "<ol class=list-inline>\n",
       "\t<li>'hZ'</li>\n",
       "\t<li>'hZZlo'</li>\n",
       "\t<li>'mZZher\\'s'</li>\n",
       "\t<li>'fZZher\\'s'</li>\n",
       "\t<li>'HZZsaid, \\'hi''</li>\n",
       "</ol>\n"
      ],
      "text/latex": [
       "\\begin{enumerate*}\n",
       "\\item 'hZ'\n",
       "\\item 'hZZlo'\n",
       "\\item 'mZZher\\textbackslash{}'s'\n",
       "\\item 'fZZher\\textbackslash{}'s'\n",
       "\\item 'HZZsaid, \\textbackslash{}'hi''\n",
       "\\end{enumerate*}\n"
      ],
      "text/markdown": [
       "1. 'hZ'\n",
       "2. 'hZZlo'\n",
       "3. 'mZZher\\'s'\n",
       "4. 'fZZher\\'s'\n",
       "5. 'HZZsaid, \\'hi''\n",
       "\n",
       "\n"
      ],
      "text/plain": [
       "[1] \"hZ\"            \"hZZlo\"         \"mZZher's\"      \"fZZher's\"     \n",
       "[5] \"HZZsaid, 'hi'\""
      ]
     },
     "metadata": {},
     "output_type": "display_data"
    }
   ],
   "source": [
    "chars <- c('hi', 'hallo', \"mother's\", 'father\\'s', \"He said, \\'hi\\'\" )\n",
    "length(chars)\n",
    "nchar(chars)\n",
    "paste(\"bill\", \"clinton\", sep = \" \")  # paste together a set of strings\n",
    "paste(chars, collapse = ' ')  # paste together things from a vector\n",
    "\n",
    "strlist<-strsplit(\"This is the Analytics Dojo\", split = \" \") #This taks a string ant splits to a list\n",
    "strlist\n",
    "substring(chars, 2, 3) #this takes the 2nd-3rd character from the sentance above \n",
    "chars2 <- chars\n",
    "substring(chars2, 2, 3) <- \"ZZ\"  #this takes the 2nd-3rd character from the sentance above \n",
    "chars2"
   ]
  },
  {
   "cell_type": "markdown",
   "metadata": {
    "slideshow": {
     "slide_type": "subslide"
    }
   },
   "source": [
    "## Factors in R \n",
    "- A factor is a special data type in R used for categorical data. In some cases it works like magic and in others it is incredibly frustrating.\n",
    "\n"
   ]
  },
  {
   "cell_type": "code",
   "execution_count": 4,
   "metadata": {},
   "outputs": [
    {
     "data": {
      "text/html": [
       "'factor'"
      ],
      "text/latex": [
       "'factor'"
      ],
      "text/markdown": [
       "'factor'"
      ],
      "text/plain": [
       "[1] \"factor\""
      ]
     },
     "metadata": {},
     "output_type": "display_data"
    },
    {
     "data": {
      "text/html": [
       "<ol class=list-inline>\n",
       "\t<li>'Johnson'</li>\n",
       "\t<li>'Smith'</li>\n",
       "</ol>\n"
      ],
      "text/latex": [
       "\\begin{enumerate*}\n",
       "\\item 'Johnson'\n",
       "\\item 'Smith'\n",
       "\\end{enumerate*}\n"
      ],
      "text/markdown": [
       "1. 'Johnson'\n",
       "2. 'Smith'\n",
       "\n",
       "\n"
      ],
      "text/plain": [
       "[1] \"Johnson\" \"Smith\"  "
      ]
     },
     "metadata": {},
     "output_type": "display_data"
    },
    {
     "data": {
      "text/html": [
       "<dl class=dl-horizontal>\n",
       "\t<dt>Johnson</dt>\n",
       "\t\t<dd>2</dd>\n",
       "\t<dt>Smith</dt>\n",
       "\t\t<dd>2</dd>\n",
       "</dl>\n"
      ],
      "text/latex": [
       "\\begin{description*}\n",
       "\\item[Johnson] 2\n",
       "\\item[Smith] 2\n",
       "\\end{description*}\n"
      ],
      "text/markdown": [
       "Johnson\n",
       ":   2Smith\n",
       ":   2\n",
       "\n"
      ],
      "text/plain": [
       "Johnson   Smith \n",
       "      2       2 "
      ]
     },
     "metadata": {},
     "output_type": "display_data"
    }
   ],
   "source": [
    "class(teachers.f) # What order are the factors in?\n",
    "levels(teachers.f)  # note alternate way to get the variable\n",
    "summary(teachers.f) #gives the count for each level. \n"
   ]
  },
  {
   "cell_type": "markdown",
   "metadata": {
    "slideshow": {
     "slide_type": "subslide"
    }
   },
   "source": [
    "## Creating Vectors in R\n",
    "- Concatenate fields to a vector: `nums <- c(1.1, 3, -5.7)`\n",
    "- Generate random values from normal distribution with `devs <- rnorm(5)`\n",
    "- idevs <- sample(ints, 100, replace = TRUE)\n"
   ]
  },
  {
   "cell_type": "code",
   "execution_count": 5,
   "metadata": {
    "slideshow": {
     "slide_type": "-"
    }
   },
   "outputs": [
    {
     "data": {
      "text/html": [
       "<ol class=list-inline>\n",
       "\t<li>-0.52841175464328</li>\n",
       "\t<li>0.327671105151546</li>\n",
       "\t<li>-0.690984192818076</li>\n",
       "\t<li>-2.37631466499193</li>\n",
       "\t<li>-0.490010419811099</li>\n",
       "</ol>\n"
      ],
      "text/latex": [
       "\\begin{enumerate*}\n",
       "\\item -0.52841175464328\n",
       "\\item 0.327671105151546\n",
       "\\item -0.690984192818076\n",
       "\\item -2.37631466499193\n",
       "\\item -0.490010419811099\n",
       "\\end{enumerate*}\n"
      ],
      "text/markdown": [
       "1. -0.52841175464328\n",
       "2. 0.327671105151546\n",
       "3. -0.690984192818076\n",
       "4. -2.37631466499193\n",
       "5. -0.490010419811099\n",
       "\n",
       "\n"
      ],
      "text/plain": [
       "[1] -0.5284118  0.3276711 -0.6909842 -2.3763147 -0.4900104"
      ]
     },
     "metadata": {},
     "output_type": "display_data"
    },
    {
     "data": {
      "text/html": [
       "<ol class=list-inline>\n",
       "\t<li>'hi'</li>\n",
       "\t<li>'hallo'</li>\n",
       "\t<li>'mother\\'s'</li>\n",
       "\t<li>'father\\'s'</li>\n",
       "\t<li>'She said'</li>\n",
       "\t<li>'hi'</li>\n",
       "\t<li>'He said, \\'hi''</li>\n",
       "</ol>\n"
      ],
      "text/latex": [
       "\\begin{enumerate*}\n",
       "\\item 'hi'\n",
       "\\item 'hallo'\n",
       "\\item 'mother\\textbackslash{}'s'\n",
       "\\item 'father\\textbackslash{}'s'\n",
       "\\item 'She said'\n",
       "\\item 'hi'\n",
       "\\item 'He said, \\textbackslash{}'hi''\n",
       "\\end{enumerate*}\n"
      ],
      "text/markdown": [
       "1. 'hi'\n",
       "2. 'hallo'\n",
       "3. 'mother\\'s'\n",
       "4. 'father\\'s'\n",
       "5. 'She said'\n",
       "6. 'hi'\n",
       "7. 'He said, \\'hi''\n",
       "\n",
       "\n"
      ],
      "text/plain": [
       "[1] \"hi\"            \"hallo\"         \"mother's\"      \"father's\"     \n",
       "[5] \"She said\"      \"hi\"            \"He said, 'hi'\""
      ]
     },
     "metadata": {},
     "output_type": "display_data"
    },
    {
     "name": "stdout",
     "output_type": "stream",
     "text": [
      "hi\n",
      "hallo\n",
      "mother's\n",
      "father's\n",
      "She said\n",
      "hi\n",
      "He said, 'hi'\n"
     ]
    },
    {
     "data": {
      "text/html": [
       "<ol class=list-inline>\n",
       "\t<li>TRUE</li>\n",
       "\t<li>FALSE</li>\n",
       "\t<li>TRUE</li>\n",
       "</ol>\n"
      ],
      "text/latex": [
       "\\begin{enumerate*}\n",
       "\\item TRUE\n",
       "\\item FALSE\n",
       "\\item TRUE\n",
       "\\end{enumerate*}\n"
      ],
      "text/markdown": [
       "1. TRUE\n",
       "2. FALSE\n",
       "3. TRUE\n",
       "\n",
       "\n"
      ],
      "text/plain": [
       "[1]  TRUE FALSE  TRUE"
      ]
     },
     "metadata": {},
     "output_type": "display_data"
    }
   ],
   "source": [
    "# numeric vector\n",
    "nums <- c(1.1, 3, -5.7)\n",
    "devs <- rnorm(5)\n",
    "devs\n",
    "\n",
    "# integer vector\n",
    "ints <- c(1L, 5L, -3L) # force storage as integer not decimal number\n",
    "# \"L\" is for \"long integer\" (historical)\n",
    "\n",
    "idevs <- sample(ints, 100, replace = TRUE)\n",
    "\n",
    "# character vector\n",
    "chars <- c(\"hi\", \"hallo\", \"mother's\", \"father\\'s\", \n",
    "   \"She said\", \"hi\", \"He said, \\'hi\\'\" )\n",
    "chars\n",
    "cat(chars, sep = \"\\n\")\n",
    "\n",
    "# logical vector\n",
    "bools <- c(TRUE, FALSE, TRUE)\n",
    "bools"
   ]
  },
  {
   "cell_type": "markdown",
   "metadata": {
    "slideshow": {
     "slide_type": "subslide"
    }
   },
   "source": [
    "## Variable Type \n",
    "- In R when we write `b = 30` this means the value of `30` is assigned to the `b` object. \n",
    "- R is a [dynamically typed](https://pythonconquerstheuniverse.wordpress.com/2009/10/03/static-vs-dynamic-typing-of-programming-languages/).\n",
    "- Unlike some languages, we don\"t have to declare the type of a variable before using it. \n",
    "- Variable type can also change with the reassignment of a variable. \n",
    "- We can query the class a value using the `class` function.\n",
    "- The `str` function gives additional details for complex objects like dataframes.\n",
    "\n"
   ]
  },
  {
   "cell_type": "code",
   "execution_count": 6,
   "metadata": {},
   "outputs": [
    {
     "name": "stdout",
     "output_type": "stream",
     "text": [
      "[1] \"The value of a is \" \"1\"                 \n",
      "[1] The value of a is  1                 \n"
     ]
    },
    {
     "data": {
      "text/html": [
       "'integer'"
      ],
      "text/latex": [
       "'integer'"
      ],
      "text/markdown": [
       "'integer'"
      ],
      "text/plain": [
       "[1] \"integer\""
      ]
     },
     "metadata": {},
     "output_type": "display_data"
    },
    {
     "name": "stdout",
     "output_type": "stream",
     "text": [
      " int 1\n",
      "[1] Now the value of a is  2.5                   \n"
     ]
    },
    {
     "data": {
      "text/html": [
       "'numeric'"
      ],
      "text/latex": [
       "'numeric'"
      ],
      "text/markdown": [
       "'numeric'"
      ],
      "text/plain": [
       "[1] \"numeric\""
      ]
     },
     "metadata": {},
     "output_type": "display_data"
    },
    {
     "name": "stdout",
     "output_type": "stream",
     "text": [
      " num 2.5\n",
      "[1] Now the value of a is  hello there           \n"
     ]
    },
    {
     "data": {
      "text/html": [
       "'character'"
      ],
      "text/latex": [
       "'character'"
      ],
      "text/markdown": [
       "'character'"
      ],
      "text/plain": [
       "[1] \"character\""
      ]
     },
     "metadata": {},
     "output_type": "display_data"
    },
    {
     "name": "stdout",
     "output_type": "stream",
     "text": [
      " chr \"hello there\"\n"
     ]
    }
   ],
   "source": [
    "a = 1L\n",
    "print (c(\"The value of a is \", a))\n",
    "print (c(\"The value of a is \", a), quote=FALSE)\n",
    "class(a)\n",
    "str(a)\n",
    "\n",
    "a = 2.5\n",
    "print (c(\"Now the value of a is \", a),quote=FALSE)\n",
    "class(a)\n",
    "str(a)\n",
    "\n",
    "a = \"hello there\"\n",
    "print (c(\"Now the value of a is \", a ),quote=FALSE)\n",
    "class(a)\n",
    "str(a)"
   ]
  },
  {
   "cell_type": "markdown",
   "metadata": {
    "slideshow": {
     "slide_type": "subslide"
    }
   },
   "source": [
    "## Converting Values Between Types\n",
    "\n",
    "- We can convert values between different types.\n",
    "- To convert to string use the `as.character` function.\n",
    "- To convert to numeric use the `as.integer` function.\n",
    "- To convert to an integer use the `as.integer` function.\n",
    "- To convert to a boolean use the `as.logical` function.\n"
   ]
  },
  {
   "cell_type": "code",
   "execution_count": 7,
   "metadata": {},
   "outputs": [
    {
     "data": {
      "text/html": [
       "1"
      ],
      "text/latex": [
       "1"
      ],
      "text/markdown": [
       "1"
      ],
      "text/plain": [
       "[1] 1"
      ]
     },
     "metadata": {},
     "output_type": "display_data"
    },
    {
     "data": {
      "text/html": [
       "'integer'"
      ],
      "text/latex": [
       "'integer'"
      ],
      "text/markdown": [
       "'integer'"
      ],
      "text/plain": [
       "[1] \"integer\""
      ]
     },
     "metadata": {},
     "output_type": "display_data"
    },
    {
     "name": "stdout",
     "output_type": "stream",
     "text": [
      " int 1\n"
     ]
    },
    {
     "data": {
      "text/html": [
       "'1'"
      ],
      "text/latex": [
       "'1'"
      ],
      "text/markdown": [
       "'1'"
      ],
      "text/plain": [
       "[1] \"1\""
      ]
     },
     "metadata": {},
     "output_type": "display_data"
    },
    {
     "data": {
      "text/html": [
       "'character'"
      ],
      "text/latex": [
       "'character'"
      ],
      "text/markdown": [
       "'character'"
      ],
      "text/plain": [
       "[1] \"character\""
      ]
     },
     "metadata": {},
     "output_type": "display_data"
    },
    {
     "name": "stdout",
     "output_type": "stream",
     "text": [
      " chr \"1\"\n"
     ]
    },
    {
     "data": {
      "text/html": [
       "1"
      ],
      "text/latex": [
       "1"
      ],
      "text/markdown": [
       "1"
      ],
      "text/plain": [
       "[1] 1"
      ]
     },
     "metadata": {},
     "output_type": "display_data"
    },
    {
     "data": {
      "text/html": [
       "'numeric'"
      ],
      "text/latex": [
       "'numeric'"
      ],
      "text/markdown": [
       "'numeric'"
      ],
      "text/plain": [
       "[1] \"numeric\""
      ]
     },
     "metadata": {},
     "output_type": "display_data"
    },
    {
     "name": "stdout",
     "output_type": "stream",
     "text": [
      " num 1\n"
     ]
    },
    {
     "data": {
      "text/html": [
       "TRUE"
      ],
      "text/latex": [
       "TRUE"
      ],
      "text/markdown": [
       "TRUE"
      ],
      "text/plain": [
       "[1] TRUE"
      ]
     },
     "metadata": {},
     "output_type": "display_data"
    },
    {
     "data": {
      "text/html": [
       "'logical'"
      ],
      "text/latex": [
       "'logical'"
      ],
      "text/markdown": [
       "'logical'"
      ],
      "text/plain": [
       "[1] \"logical\""
      ]
     },
     "metadata": {},
     "output_type": "display_data"
    },
    {
     "name": "stdout",
     "output_type": "stream",
     "text": [
      " logi TRUE\n"
     ]
    }
   ],
   "source": [
    "#This is a way of specifying a long integer.\n",
    "a <- 1L\n",
    "a\n",
    "class(a)\n",
    "str(a)\n",
    "a<-as.character(a)\n",
    "a\n",
    "class(a)\n",
    "str(a)\n",
    "a<-as.numeric(a)\n",
    "a\n",
    "class(a)\n",
    "str(a)\n",
    "a<-as.logical(a)\n",
    "a\n",
    "class(a)\n",
    "str(a)\n"
   ]
  },
  {
   "cell_type": "markdown",
   "metadata": {
    "slideshow": {
     "slide_type": "subslide"
    }
   },
   "source": [
    "## Quotes \n",
    "- Double Quotes are preferred in R, though both will work as long as they aren't mixed. "
   ]
  },
  {
   "cell_type": "code",
   "execution_count": 8,
   "metadata": {},
   "outputs": [
    {
     "data": {
      "text/html": [
       "'character'"
      ],
      "text/latex": [
       "'character'"
      ],
      "text/markdown": [
       "'character'"
      ],
      "text/plain": [
       "[1] \"character\""
      ]
     },
     "metadata": {},
     "output_type": "display_data"
    },
    {
     "name": "stdout",
     "output_type": "stream",
     "text": [
      " chr \"hello\"\n"
     ]
    },
    {
     "data": {
      "text/html": [
       "'character'"
      ],
      "text/latex": [
       "'character'"
      ],
      "text/markdown": [
       "'character'"
      ],
      "text/plain": [
       "[1] \"character\""
      ]
     },
     "metadata": {},
     "output_type": "display_data"
    },
    {
     "name": "stdout",
     "output_type": "stream",
     "text": [
      " chr \"hello\"\n"
     ]
    }
   ],
   "source": [
    "#Double Quotes are preferred in R, though both will work as long as they aren't mixed. \n",
    "a <- \"hello\"\n",
    "class(a)\n",
    "str(a)\n",
    "a <- 'hello'\n",
    "class(a)\n",
    "str(a)"
   ]
  },
  {
   "cell_type": "markdown",
   "metadata": {
    "slideshow": {
     "slide_type": "subslide"
    }
   },
   "source": [
    "# Null Values\n",
    "\n",
    "- Since it was designed by statisticians, R handles missing values very well relative to other languages.\n",
    "- `NA` is a missing value\n"
   ]
  },
  {
   "cell_type": "code",
   "execution_count": 9,
   "metadata": {},
   "outputs": [
    {
     "data": {
      "text/plain": [
       "[1] NA"
      ]
     },
     "metadata": {},
     "output_type": "display_data"
    },
    {
     "data": {
      "text/html": [
       "<ol class=list-inline>\n",
       "\t<li>0.741647009344461</li>\n",
       "\t<li>0.0781810934053661</li>\n",
       "\t<li>NA</li>\n",
       "\t<li>0.299288666885857</li>\n",
       "\t<li>NA</li>\n",
       "\t<li>0.360647880858868</li>\n",
       "\t<li>-0.226454051105505</li>\n",
       "\t<li>-0.397835149127842</li>\n",
       "\t<li>-0.889144943912309</li>\n",
       "\t<li>-1.43920588099106</li>\n",
       "\t<li>0.0574771044691084</li>\n",
       "\t<li>1.15725558930294</li>\n",
       "</ol>\n"
      ],
      "text/latex": [
       "\\begin{enumerate*}\n",
       "\\item 0.741647009344461\n",
       "\\item 0.0781810934053661\n",
       "\\item NA\n",
       "\\item 0.299288666885857\n",
       "\\item NA\n",
       "\\item 0.360647880858868\n",
       "\\item -0.226454051105505\n",
       "\\item -0.397835149127842\n",
       "\\item -0.889144943912309\n",
       "\\item -1.43920588099106\n",
       "\\item 0.0574771044691084\n",
       "\\item 1.15725558930294\n",
       "\\end{enumerate*}\n"
      ],
      "text/markdown": [
       "1. 0.741647009344461\n",
       "2. 0.0781810934053661\n",
       "3. NA\n",
       "4. 0.299288666885857\n",
       "5. NA\n",
       "6. 0.360647880858868\n",
       "7. -0.226454051105505\n",
       "8. -0.397835149127842\n",
       "9. -0.889144943912309\n",
       "10. -1.43920588099106\n",
       "11. 0.0574771044691084\n",
       "12. 1.15725558930294\n",
       "\n",
       "\n"
      ],
      "text/plain": [
       " [1]  0.74164701  0.07818109          NA  0.29928867          NA  0.36064788\n",
       " [7] -0.22645405 -0.39783515 -0.88914494 -1.43920588  0.05747710  1.15725559"
      ]
     },
     "metadata": {},
     "output_type": "display_data"
    },
    {
     "data": {
      "text/plain": [
       "[1] NA"
      ]
     },
     "metadata": {},
     "output_type": "display_data"
    },
    {
     "data": {
      "text/html": [
       "-0.258142680870115"
      ],
      "text/latex": [
       "-0.258142680870115"
      ],
      "text/markdown": [
       "-0.258142680870115"
      ],
      "text/plain": [
       "[1] -0.2581427"
      ]
     },
     "metadata": {},
     "output_type": "display_data"
    },
    {
     "data": {
      "text/html": [
       "<ol class=list-inline>\n",
       "\t<li>FALSE</li>\n",
       "\t<li>FALSE</li>\n",
       "\t<li>TRUE</li>\n",
       "\t<li>FALSE</li>\n",
       "\t<li>TRUE</li>\n",
       "\t<li>FALSE</li>\n",
       "\t<li>FALSE</li>\n",
       "\t<li>FALSE</li>\n",
       "\t<li>FALSE</li>\n",
       "\t<li>FALSE</li>\n",
       "\t<li>FALSE</li>\n",
       "\t<li>FALSE</li>\n",
       "</ol>\n"
      ],
      "text/latex": [
       "\\begin{enumerate*}\n",
       "\\item FALSE\n",
       "\\item FALSE\n",
       "\\item TRUE\n",
       "\\item FALSE\n",
       "\\item TRUE\n",
       "\\item FALSE\n",
       "\\item FALSE\n",
       "\\item FALSE\n",
       "\\item FALSE\n",
       "\\item FALSE\n",
       "\\item FALSE\n",
       "\\item FALSE\n",
       "\\end{enumerate*}\n"
      ],
      "text/markdown": [
       "1. FALSE\n",
       "2. FALSE\n",
       "3. TRUE\n",
       "4. FALSE\n",
       "5. TRUE\n",
       "6. FALSE\n",
       "7. FALSE\n",
       "8. FALSE\n",
       "9. FALSE\n",
       "10. FALSE\n",
       "11. FALSE\n",
       "12. FALSE\n",
       "\n",
       "\n"
      ],
      "text/plain": [
       " [1] FALSE FALSE  TRUE FALSE  TRUE FALSE FALSE FALSE FALSE FALSE FALSE FALSE"
      ]
     },
     "metadata": {},
     "output_type": "display_data"
    }
   ],
   "source": [
    "#Notice nothing is printed.\n",
    "a=NA\n",
    "a\n",
    "vec <- rnorm(12)    #This creates a vector with randomly distributed values\n",
    "vec[c(3, 5)] <- NA  #This sets values 3 and 5 as NA\n",
    "vec                 #This prints the Vector\n",
    "sum(vec)            #What is the Sum of a vector that has NA?  \n",
    "sum(vec, na.rm = TRUE)   #This Sums the vector with the NA removed. \n",
    "is.na(vec)          #This returns a vector of whether specific values are equal to NA."
   ]
  },
  {
   "cell_type": "markdown",
   "metadata": {
    "slideshow": {
     "slide_type": "subslide"
    }
   },
   "source": [
    "## Logical/Boolean Vectors\n",
    "- Here we can see that summing and averaging boolean vectors treats `TRUE=1 & FALSE=0`"
   ]
  },
  {
   "cell_type": "code",
   "execution_count": 10,
   "metadata": {},
   "outputs": [
    {
     "data": {
      "text/html": [
       "2"
      ],
      "text/latex": [
       "2"
      ],
      "text/markdown": [
       "2"
      ],
      "text/plain": [
       "[1] 2"
      ]
     },
     "metadata": {},
     "output_type": "display_data"
    },
    {
     "data": {
      "text/html": [
       "0.5"
      ],
      "text/latex": [
       "0.5"
      ],
      "text/markdown": [
       "0.5"
      ],
      "text/plain": [
       "[1] 0.5"
      ]
     },
     "metadata": {},
     "output_type": "display_data"
    },
    {
     "data": {
      "text/html": [
       "<ol class=list-inline>\n",
       "\t<li>2</li>\n",
       "\t<li>1</li>\n",
       "\t<li>1</li>\n",
       "\t<li>0</li>\n",
       "</ol>\n"
      ],
      "text/latex": [
       "\\begin{enumerate*}\n",
       "\\item 2\n",
       "\\item 1\n",
       "\\item 1\n",
       "\\item 0\n",
       "\\end{enumerate*}\n"
      ],
      "text/markdown": [
       "1. 2\n",
       "2. 1\n",
       "3. 1\n",
       "4. 0\n",
       "\n",
       "\n"
      ],
      "text/plain": [
       "[1] 2 1 1 0"
      ]
     },
     "metadata": {},
     "output_type": "display_data"
    },
    {
     "data": {
      "text/html": [
       "'integer'"
      ],
      "text/latex": [
       "'integer'"
      ],
      "text/markdown": [
       "'integer'"
      ],
      "text/plain": [
       "[1] \"integer\""
      ]
     },
     "metadata": {},
     "output_type": "display_data"
    }
   ],
   "source": [
    "answers <- c(TRUE, TRUE, FALSE, FALSE)\n",
    "update <- c(TRUE, FALSE, TRUE, FALSE)\n",
    "\n",
    "# Here we see that True coul\n",
    "sum(answers)\n",
    "mean(answers)\n",
    "total<-answers + update\n",
    "total\n",
    "class(total)"
   ]
  },
  {
   "cell_type": "markdown",
   "metadata": {
    "slideshow": {
     "slide_type": "subslide"
    }
   },
   "source": [
    "## R Calculations\n",
    "- R can act as a basic calculator."
   ]
  },
  {
   "cell_type": "code",
   "execution_count": 11,
   "metadata": {},
   "outputs": [
    {
     "data": {
      "text/html": [
       "4"
      ],
      "text/latex": [
       "4"
      ],
      "text/markdown": [
       "4"
      ],
      "text/plain": [
       "[1] 4"
      ]
     },
     "metadata": {},
     "output_type": "display_data"
    },
    {
     "data": {
      "text/html": [
       "6.28318530717959"
      ],
      "text/latex": [
       "6.28318530717959"
      ],
      "text/markdown": [
       "6.28318530717959"
      ],
      "text/plain": [
       "[1] 6.283185"
      ]
     },
     "metadata": {},
     "output_type": "display_data"
    },
    {
     "data": {
      "text/html": [
       "7.53192894184031"
      ],
      "text/latex": [
       "7.53192894184031"
      ],
      "text/markdown": [
       "7.53192894184031"
      ],
      "text/plain": [
       "[1] 7.531929"
      ]
     },
     "metadata": {},
     "output_type": "display_data"
    },
    {
     "data": {
      "text/html": [
       "81"
      ],
      "text/latex": [
       "81"
      ],
      "text/markdown": [
       "81"
      ],
      "text/plain": [
       "[1] 81"
      ]
     },
     "metadata": {},
     "output_type": "display_data"
    },
    {
     "data": {
      "text/html": [
       "16"
      ],
      "text/latex": [
       "16"
      ],
      "text/markdown": [
       "16"
      ],
      "text/plain": [
       "[1] 16"
      ]
     },
     "metadata": {},
     "output_type": "display_data"
    },
    {
     "data": {
      "text/html": [
       "2.30258509299405"
      ],
      "text/latex": [
       "2.30258509299405"
      ],
      "text/markdown": [
       "2.30258509299405"
      ],
      "text/plain": [
       "[1] 2.302585"
      ]
     },
     "metadata": {},
     "output_type": "display_data"
    },
    {
     "data": {
      "text/html": [
       "2"
      ],
      "text/latex": [
       "2"
      ],
      "text/markdown": [
       "2"
      ],
      "text/plain": [
       "[1] 2"
      ]
     },
     "metadata": {},
     "output_type": "display_data"
    },
    {
     "data": {
      "text/html": [
       "11"
      ],
      "text/latex": [
       "11"
      ],
      "text/markdown": [
       "11"
      ],
      "text/plain": [
       "[1] 11"
      ]
     },
     "metadata": {},
     "output_type": "display_data"
    },
    {
     "data": {
      "text/html": [
       "1"
      ],
      "text/latex": [
       "1"
      ],
      "text/markdown": [
       "1"
      ],
      "text/plain": [
       "[1] 1"
      ]
     },
     "metadata": {},
     "output_type": "display_data"
    },
    {
     "data": {
      "text/html": [
       "5e+12"
      ],
      "text/latex": [
       "5e+12"
      ],
      "text/markdown": [
       "5e+12"
      ],
      "text/plain": [
       "[1] 5e+12"
      ]
     },
     "metadata": {},
     "output_type": "display_data"
    },
    {
     "data": {
      "text/html": [
       "5e+12"
      ],
      "text/latex": [
       "5e+12"
      ],
      "text/markdown": [
       "5e+12"
      ],
      "text/plain": [
       "[1] 5e+12"
      ]
     },
     "metadata": {},
     "output_type": "display_data"
    }
   ],
   "source": [
    "2 + 2 # add numbers\n",
    "2 * pi # multiply by a constant\n",
    "7 + runif(1) # add a random number\n",
    "3^4 # powers\n",
    "sqrt(4^4) # functions\n",
    "log(10)\n",
    "log(100, base = 10)\n",
    "23 %/% 2 \n",
    "23 %% 2\n",
    "\n",
    "# scientific notation\n",
    "5000000000 * 1000\n",
    "5e9 * 1e3"
   ]
  },
  {
   "cell_type": "markdown",
   "metadata": {
    "slideshow": {
     "slide_type": "subslide"
    }
   },
   "source": [
    "## Operations on Vectors\n",
    "- R can be used as a basic calculator.\n",
    "- We can do calculations on vectors easily. \n",
    "- Direct operations are much faster easier than looping.\n"
   ]
  },
  {
   "cell_type": "code",
   "execution_count": 12,
   "metadata": {},
   "outputs": [
    {
     "ename": "ERROR",
     "evalue": "Error in eval(expr, envir, enclos): object 'chi2vals' not found\n",
     "output_type": "error",
     "traceback": [
      "Error in eval(expr, envir, enclos): object 'chi2vals' not found\nTraceback:\n"
     ]
    }
   ],
   "source": [
    "vals <- rnorm(10)\n",
    "squared2vals <- vals^2\n",
    "sum_squared2vals <- sum(chi2vals)\n",
    "count_squared2vals<-length(squared2vals)  \n",
    "vals\n",
    "squared2vals\n",
    "sum_df1000\n",
    "count_squared2vals\n"
   ]
  },
  {
   "cell_type": "markdown",
   "metadata": {
    "slideshow": {
     "slide_type": "subslide"
    }
   },
   "source": [
    "## R is a Functional Language\n",
    "\n",
    "- Operations are carried out with functions. Functions take objects as inputs and return objects as outputs. \n",
    "- An analysis can be considered a pipeline of function calls, with output from a function used later in a subsequent operation as input to another function.\n",
    "- Functions themselves are objects. \n",
    "- We can get help on functions with help(lm) or ?lm"
   ]
  },
  {
   "cell_type": "code",
   "execution_count": 13,
   "metadata": {},
   "outputs": [
    {
     "data": {
      "text/html": [
       "-0.0980439068203081"
      ],
      "text/latex": [
       "-0.0980439068203081"
      ],
      "text/markdown": [
       "-0.0980439068203081"
      ],
      "text/plain": [
       "[1] -0.09804391"
      ]
     },
     "metadata": {},
     "output_type": "display_data"
    },
    {
     "data": {
      "text/html": [
       "'function'"
      ],
      "text/latex": [
       "'function'"
      ],
      "text/markdown": [
       "'function'"
      ],
      "text/plain": [
       "[1] \"function\""
      ]
     },
     "metadata": {},
     "output_type": "display_data"
    },
    {
     "data": {
      "text/html": [
       "-0.0980439068203081"
      ],
      "text/latex": [
       "-0.0980439068203081"
      ],
      "text/markdown": [
       "-0.0980439068203081"
      ],
      "text/plain": [
       "[1] -0.09804391"
      ]
     },
     "metadata": {},
     "output_type": "display_data"
    },
    {
     "data": {
      "text/html": [
       "0.0688297968012366"
      ],
      "text/latex": [
       "0.0688297968012366"
      ],
      "text/markdown": [
       "0.0688297968012366"
      ],
      "text/plain": [
       "[1] 0.0688298"
      ]
     },
     "metadata": {},
     "output_type": "display_data"
    }
   ],
   "source": [
    "vals <- rnorm(10)\n",
    "median(vals)\n",
    "class(median)\n",
    "median(vals, na.rm = TRUE)\n",
    "mean(vals, na.rm = TRUE)\n",
    "help(lm)\n",
    "?lm\n",
    "?log\n",
    "\n"
   ]
  },
  {
   "cell_type": "markdown",
   "metadata": {
    "slideshow": {
     "slide_type": "subslide"
    }
   },
   "source": [
    "## Matrix \n",
    "- Multiple column vector\n",
    "- Matrix is useful for linear algebra\n",
    "- Matrix must be **all of the same type**\n",
    "- Could relatively easily do regression calculations using undlerlying matrix"
   ]
  },
  {
   "cell_type": "code",
   "execution_count": 14,
   "metadata": {},
   "outputs": [
    {
     "data": {
      "text/html": [
       "<table>\n",
       "<tbody>\n",
       "\t<tr><td>-0.9324554</td><td>0.1828705 </td><td>-0.9165814</td><td> 0.7926377</td></tr>\n",
       "\t<tr><td>-0.4100792</td><td>0.3026225 </td><td> 0.3774565</td><td>-0.9033992</td></tr>\n",
       "\t<tr><td>-0.5113364</td><td>0.9192162 </td><td> 0.7799679</td><td> 1.2783668</td></tr>\n",
       "</tbody>\n",
       "</table>\n"
      ],
      "text/latex": [
       "\\begin{tabular}{llll}\n",
       "\t -0.9324554 & 0.1828705  & -0.9165814 &  0.7926377\\\\\n",
       "\t -0.4100792 & 0.3026225  &  0.3774565 & -0.9033992\\\\\n",
       "\t -0.5113364 & 0.9192162  &  0.7799679 &  1.2783668\\\\\n",
       "\\end{tabular}\n"
      ],
      "text/markdown": [
       "\n",
       "| -0.9324554 | 0.1828705  | -0.9165814 |  0.7926377 | \n",
       "| -0.4100792 | 0.3026225  |  0.3774565 | -0.9033992 | \n",
       "| -0.5113364 | 0.9192162  |  0.7799679 |  1.2783668 | \n",
       "\n",
       "\n"
      ],
      "text/plain": [
       "     [,1]       [,2]      [,3]       [,4]      \n",
       "[1,] -0.9324554 0.1828705 -0.9165814  0.7926377\n",
       "[2,] -0.4100792 0.3026225  0.3774565 -0.9033992\n",
       "[3,] -0.5113364 0.9192162  0.7799679  1.2783668"
      ]
     },
     "metadata": {},
     "output_type": "display_data"
    },
    {
     "data": {
      "text/html": [
       "<table>\n",
       "<tbody>\n",
       "\t<tr><td>1 </td><td>4 </td><td>7 </td><td>10</td></tr>\n",
       "\t<tr><td>2 </td><td>5 </td><td>8 </td><td>11</td></tr>\n",
       "\t<tr><td>3 </td><td>6 </td><td>9 </td><td>12</td></tr>\n",
       "</tbody>\n",
       "</table>\n"
      ],
      "text/latex": [
       "\\begin{tabular}{llll}\n",
       "\t 1  & 4  & 7  & 10\\\\\n",
       "\t 2  & 5  & 8  & 11\\\\\n",
       "\t 3  & 6  & 9  & 12\\\\\n",
       "\\end{tabular}\n"
      ],
      "text/markdown": [
       "\n",
       "| 1  | 4  | 7  | 10 | \n",
       "| 2  | 5  | 8  | 11 | \n",
       "| 3  | 6  | 9  | 12 | \n",
       "\n",
       "\n"
      ],
      "text/plain": [
       "     [,1] [,2] [,3] [,4]\n",
       "[1,] 1    4    7    10  \n",
       "[2,] 2    5    8    11  \n",
       "[3,] 3    6    9    12  "
      ]
     },
     "metadata": {},
     "output_type": "display_data"
    },
    {
     "data": {
      "text/html": [
       "<table>\n",
       "<tbody>\n",
       "\t<tr><td>1 </td><td>5 </td><td> 9</td></tr>\n",
       "\t<tr><td>2 </td><td>6 </td><td>10</td></tr>\n",
       "\t<tr><td>3 </td><td>7 </td><td>11</td></tr>\n",
       "\t<tr><td>4 </td><td>8 </td><td>12</td></tr>\n",
       "</tbody>\n",
       "</table>\n"
      ],
      "text/latex": [
       "\\begin{tabular}{lll}\n",
       "\t 1  & 5  &  9\\\\\n",
       "\t 2  & 6  & 10\\\\\n",
       "\t 3  & 7  & 11\\\\\n",
       "\t 4  & 8  & 12\\\\\n",
       "\\end{tabular}\n"
      ],
      "text/markdown": [
       "\n",
       "| 1  | 5  |  9 | \n",
       "| 2  | 6  | 10 | \n",
       "| 3  | 7  | 11 | \n",
       "| 4  | 8  | 12 | \n",
       "\n",
       "\n"
      ],
      "text/plain": [
       "     [,1] [,2] [,3]\n",
       "[1,] 1    5     9  \n",
       "[2,] 2    6    10  \n",
       "[3,] 3    7    11  \n",
       "[4,] 4    8    12  "
      ]
     },
     "metadata": {},
     "output_type": "display_data"
    },
    {
     "data": {
      "text/html": [
       "<table>\n",
       "<tbody>\n",
       "\t<tr><td> 4</td><td>16</td><td>28</td></tr>\n",
       "\t<tr><td> 8</td><td>20</td><td>32</td></tr>\n",
       "\t<tr><td>12</td><td>24</td><td>36</td></tr>\n",
       "</tbody>\n",
       "</table>\n"
      ],
      "text/latex": [
       "\\begin{tabular}{lll}\n",
       "\t  4 & 16 & 28\\\\\n",
       "\t  8 & 20 & 32\\\\\n",
       "\t 12 & 24 & 36\\\\\n",
       "\\end{tabular}\n"
      ],
      "text/markdown": [
       "\n",
       "|  4 | 16 | 28 | \n",
       "|  8 | 20 | 32 | \n",
       "| 12 | 24 | 36 | \n",
       "\n",
       "\n"
      ],
      "text/plain": [
       "     [,1] [,2] [,3]\n",
       "[1,]  4   16   28  \n",
       "[2,]  8   20   32  \n",
       "[3,] 12   24   36  "
      ]
     },
     "metadata": {},
     "output_type": "display_data"
    }
   ],
   "source": [
    "#This is setup a matrix(vector, nrow,ncol)\n",
    "mat <- matrix(rnorm(12), nrow = 3, ncol = 4)\n",
    "mat\n",
    "# This is setup a matrix(vector, rows)\n",
    "A <- matrix(1:12, 3)\n",
    "B <- matrix(1:12, 4)\n",
    "C <- matrix(seq(4,36, by = 4), 3)\n",
    "A\n",
    "B\n",
    "C"
   ]
  },
  {
   "cell_type": "markdown",
   "metadata": {
    "slideshow": {
     "slide_type": "subslide"
    }
   },
   "source": [
    "## Slicing Vectors and Matrixs\n",
    "- Can use matrix[rows,columns] with specificating of row/column index, name, range. \n"
   ]
  },
  {
   "cell_type": "code",
   "execution_count": 15,
   "metadata": {},
   "outputs": [
    {
     "data": {
      "text/html": [
       "<ol class=list-inline>\n",
       "\t<li>0.235847096846066</li>\n",
       "\t<li>-1.22658917279729</li>\n",
       "\t<li>-1.18402683885278</li>\n",
       "\t<li>1.50615064907639</li>\n",
       "\t<li>-0.206182106051588</li>\n",
       "\t<li>-0.412355878955171</li>\n",
       "\t<li>-0.0799934537639763</li>\n",
       "\t<li>-1.72561819147371</li>\n",
       "\t<li>0.76499317236754</li>\n",
       "\t<li>1.25314418417645</li>\n",
       "\t<li>-1.12655889886209</li>\n",
       "\t<li>-2.45245615420083</li>\n",
       "</ol>\n"
      ],
      "text/latex": [
       "\\begin{enumerate*}\n",
       "\\item 0.235847096846066\n",
       "\\item -1.22658917279729\n",
       "\\item -1.18402683885278\n",
       "\\item 1.50615064907639\n",
       "\\item -0.206182106051588\n",
       "\\item -0.412355878955171\n",
       "\\item -0.0799934537639763\n",
       "\\item -1.72561819147371\n",
       "\\item 0.76499317236754\n",
       "\\item 1.25314418417645\n",
       "\\item -1.12655889886209\n",
       "\\item -2.45245615420083\n",
       "\\end{enumerate*}\n"
      ],
      "text/markdown": [
       "1. 0.235847096846066\n",
       "2. -1.22658917279729\n",
       "3. -1.18402683885278\n",
       "4. 1.50615064907639\n",
       "5. -0.206182106051588\n",
       "6. -0.412355878955171\n",
       "7. -0.0799934537639763\n",
       "8. -1.72561819147371\n",
       "9. 0.76499317236754\n",
       "10. 1.25314418417645\n",
       "11. -1.12655889886209\n",
       "12. -2.45245615420083\n",
       "\n",
       "\n"
      ],
      "text/plain": [
       " [1]  0.23584710 -1.22658917 -1.18402684  1.50615065 -0.20618211 -0.41235588\n",
       " [7] -0.07999345 -1.72561819  0.76499317  1.25314418 -1.12655890 -2.45245615"
      ]
     },
     "metadata": {},
     "output_type": "display_data"
    },
    {
     "data": {
      "text/html": [
       "<table>\n",
       "<tbody>\n",
       "\t<tr><th scope=row>a</th><td> 0.2358471 </td><td>-0.20618211</td><td> 0.7649932 </td></tr>\n",
       "\t<tr><th scope=row>b</th><td>-1.2265892 </td><td>-0.41235588</td><td> 1.2531442 </td></tr>\n",
       "\t<tr><th scope=row>c</th><td>-1.1840268 </td><td>-0.07999345</td><td>-1.1265589 </td></tr>\n",
       "\t<tr><th scope=row>d</th><td> 1.5061506 </td><td>-1.72561819</td><td>-2.4524562 </td></tr>\n",
       "</tbody>\n",
       "</table>\n"
      ],
      "text/latex": [
       "\\begin{tabular}{r|lll}\n",
       "\ta &  0.2358471  & -0.20618211 &  0.7649932 \\\\\n",
       "\tb & -1.2265892  & -0.41235588 &  1.2531442 \\\\\n",
       "\tc & -1.1840268  & -0.07999345 & -1.1265589 \\\\\n",
       "\td &  1.5061506  & -1.72561819 & -2.4524562 \\\\\n",
       "\\end{tabular}\n"
      ],
      "text/markdown": [
       "\n",
       "| a |  0.2358471  | -0.20618211 |  0.7649932  | \n",
       "| b | -1.2265892  | -0.41235588 |  1.2531442  | \n",
       "| c | -1.1840268  | -0.07999345 | -1.1265589  | \n",
       "| d |  1.5061506  | -1.72561819 | -2.4524562  | \n",
       "\n",
       "\n"
      ],
      "text/plain": [
       "  [,1]       [,2]        [,3]      \n",
       "a  0.2358471 -0.20618211  0.7649932\n",
       "b -1.2265892 -0.41235588  1.2531442\n",
       "c -1.1840268 -0.07999345 -1.1265589\n",
       "d  1.5061506 -1.72561819 -2.4524562"
      ]
     },
     "metadata": {},
     "output_type": "display_data"
    }
   ],
   "source": [
    "vec <- rnorm(12)\n",
    "mat <- matrix(vec, 4, 3)\n",
    "rownames(mat) <- letters[1:4] #This assigns a row name\n",
    "vec\n",
    "mat\n",
    "\n"
   ]
  },
  {
   "cell_type": "code",
   "execution_count": 16,
   "metadata": {},
   "outputs": [
    {
     "data": {
      "text/html": [
       "<ol class=list-inline>\n",
       "\t<li>-1.18402683885278</li>\n",
       "\t<li>-0.206182106051588</li>\n",
       "\t<li>-1.72561819147371</li>\n",
       "\t<li>0.76499317236754</li>\n",
       "\t<li>1.25314418417645</li>\n",
       "</ol>\n"
      ],
      "text/latex": [
       "\\begin{enumerate*}\n",
       "\\item -1.18402683885278\n",
       "\\item -0.206182106051588\n",
       "\\item -1.72561819147371\n",
       "\\item 0.76499317236754\n",
       "\\item 1.25314418417645\n",
       "\\end{enumerate*}\n"
      ],
      "text/markdown": [
       "1. -1.18402683885278\n",
       "2. -0.206182106051588\n",
       "3. -1.72561819147371\n",
       "4. 0.76499317236754\n",
       "5. 1.25314418417645\n",
       "\n",
       "\n"
      ],
      "text/plain": [
       "[1] -1.1840268 -0.2061821 -1.7256182  0.7649932  1.2531442"
      ]
     },
     "metadata": {},
     "output_type": "display_data"
    }
   ],
   "source": [
    "#Slicing Vector\n",
    "vec[c(3, 5, 8:10)] # This gives position 3, 5, and 8-10"
   ]
  },
  {
   "cell_type": "code",
   "execution_count": 17,
   "metadata": {},
   "outputs": [
    {
     "data": {
      "text/html": [
       "<table>\n",
       "<tbody>\n",
       "\t<tr><th scope=row>a</th><td>0.2358471 </td><td>-0.2061821</td><td> 0.7649932</td></tr>\n",
       "\t<tr><th scope=row>d</th><td>1.5061506 </td><td>-1.7256182</td><td>-2.4524562</td></tr>\n",
       "</tbody>\n",
       "</table>\n"
      ],
      "text/latex": [
       "\\begin{tabular}{r|lll}\n",
       "\ta & 0.2358471  & -0.2061821 &  0.7649932\\\\\n",
       "\td & 1.5061506  & -1.7256182 & -2.4524562\\\\\n",
       "\\end{tabular}\n"
      ],
      "text/markdown": [
       "\n",
       "| a | 0.2358471  | -0.2061821 |  0.7649932 | \n",
       "| d | 1.5061506  | -1.7256182 | -2.4524562 | \n",
       "\n",
       "\n"
      ],
      "text/plain": [
       "  [,1]      [,2]       [,3]      \n",
       "a 0.2358471 -0.2061821  0.7649932\n",
       "d 1.5061506 -1.7256182 -2.4524562"
      ]
     },
     "metadata": {},
     "output_type": "display_data"
    },
    {
     "data": {
      "text/html": [
       "<table>\n",
       "<tbody>\n",
       "\t<tr><th scope=row>a</th><td>0.2358471 </td><td>-0.2061821</td><td> 0.7649932</td></tr>\n",
       "\t<tr><th scope=row>d</th><td>1.5061506 </td><td>-1.7256182</td><td>-2.4524562</td></tr>\n",
       "</tbody>\n",
       "</table>\n"
      ],
      "text/latex": [
       "\\begin{tabular}{r|lll}\n",
       "\ta & 0.2358471  & -0.2061821 &  0.7649932\\\\\n",
       "\td & 1.5061506  & -1.7256182 & -2.4524562\\\\\n",
       "\\end{tabular}\n"
      ],
      "text/markdown": [
       "\n",
       "| a | 0.2358471  | -0.2061821 |  0.7649932 | \n",
       "| d | 1.5061506  | -1.7256182 | -2.4524562 | \n",
       "\n",
       "\n"
      ],
      "text/plain": [
       "  [,1]      [,2]       [,3]      \n",
       "a 0.2358471 -0.2061821  0.7649932\n",
       "d 1.5061506 -1.7256182 -2.4524562"
      ]
     },
     "metadata": {},
     "output_type": "display_data"
    },
    {
     "data": {
      "text/html": [
       "<table>\n",
       "<tbody>\n",
       "\t<tr><th scope=row>a</th><td>0.2358471 </td><td>-0.2061821</td></tr>\n",
       "\t<tr><th scope=row>d</th><td>1.5061506 </td><td>-1.7256182</td></tr>\n",
       "</tbody>\n",
       "</table>\n"
      ],
      "text/latex": [
       "\\begin{tabular}{r|ll}\n",
       "\ta & 0.2358471  & -0.2061821\\\\\n",
       "\td & 1.5061506  & -1.7256182\\\\\n",
       "\\end{tabular}\n"
      ],
      "text/markdown": [
       "\n",
       "| a | 0.2358471  | -0.2061821 | \n",
       "| d | 1.5061506  | -1.7256182 | \n",
       "\n",
       "\n"
      ],
      "text/plain": [
       "  [,1]      [,2]      \n",
       "a 0.2358471 -0.2061821\n",
       "d 1.5061506 -1.7256182"
      ]
     },
     "metadata": {},
     "output_type": "display_data"
    },
    {
     "data": {
      "text/html": [
       "<table>\n",
       "<tbody>\n",
       "\t<tr><th scope=row>a</th><td>0.2358471 </td><td> 0.7649932</td></tr>\n",
       "\t<tr><th scope=row>d</th><td>1.5061506 </td><td>-2.4524562</td></tr>\n",
       "</tbody>\n",
       "</table>\n"
      ],
      "text/latex": [
       "\\begin{tabular}{r|ll}\n",
       "\ta & 0.2358471  &  0.7649932\\\\\n",
       "\td & 1.5061506  & -2.4524562\\\\\n",
       "\\end{tabular}\n"
      ],
      "text/markdown": [
       "\n",
       "| a | 0.2358471  |  0.7649932 | \n",
       "| d | 1.5061506  | -2.4524562 | \n",
       "\n",
       "\n"
      ],
      "text/plain": [
       "  [,1]      [,2]      \n",
       "a 0.2358471  0.7649932\n",
       "d 1.5061506 -2.4524562"
      ]
     },
     "metadata": {},
     "output_type": "display_data"
    },
    {
     "data": {
      "text/html": [
       "<table>\n",
       "<tbody>\n",
       "\t<tr><th scope=row>a</th><td> 0.2358471 </td><td>-0.20618211</td></tr>\n",
       "\t<tr><th scope=row>b</th><td>-1.2265892 </td><td>-0.41235588</td></tr>\n",
       "\t<tr><th scope=row>c</th><td>-1.1840268 </td><td>-0.07999345</td></tr>\n",
       "\t<tr><th scope=row>d</th><td> 1.5061506 </td><td>-1.72561819</td></tr>\n",
       "</tbody>\n",
       "</table>\n"
      ],
      "text/latex": [
       "\\begin{tabular}{r|ll}\n",
       "\ta &  0.2358471  & -0.20618211\\\\\n",
       "\tb & -1.2265892  & -0.41235588\\\\\n",
       "\tc & -1.1840268  & -0.07999345\\\\\n",
       "\td &  1.5061506  & -1.72561819\\\\\n",
       "\\end{tabular}\n"
      ],
      "text/markdown": [
       "\n",
       "| a |  0.2358471  | -0.20618211 | \n",
       "| b | -1.2265892  | -0.41235588 | \n",
       "| c | -1.1840268  | -0.07999345 | \n",
       "| d |  1.5061506  | -1.72561819 | \n",
       "\n",
       "\n"
      ],
      "text/plain": [
       "  [,1]       [,2]       \n",
       "a  0.2358471 -0.20618211\n",
       "b -1.2265892 -0.41235588\n",
       "c -1.1840268 -0.07999345\n",
       "d  1.5061506 -1.72561819"
      ]
     },
     "metadata": {},
     "output_type": "display_data"
    }
   ],
   "source": [
    "# matrix[rows,columns]  leaving blank means all columns/rows\n",
    "mat[c('a', 'd'), ]\n",
    "mat[c(1,4), ]\n",
    "mat[c(1,4), 1:2]\n",
    "mat[c(1,4), c(1,3)] #Notice when providing a list we surround with c\n",
    "mat[, 1:2]          #When providing a range we use a colon."
   ]
  },
  {
   "cell_type": "markdown",
   "metadata": {
    "slideshow": {
     "slide_type": "subslide"
    }
   },
   "source": [
    "## Lists\n",
    "- Collections of disparate or complicated objects.\n",
    "- Can be of multiple different types. \n",
    "- Here we assign individual values with the list with `=`.\n",
    "- Slice the list with the index position or the name. "
   ]
  },
  {
   "cell_type": "code",
   "execution_count": 18,
   "metadata": {},
   "outputs": [
    {
     "data": {
      "text/html": [
       "<dl>\n",
       "\t<dt>$stuff</dt>\n",
       "\t\t<dd>3</dd>\n",
       "\t<dt>$mat</dt>\n",
       "\t\t<dd><table>\n",
       "<tbody>\n",
       "\t<tr><td>1</td><td>3</td></tr>\n",
       "\t<tr><td>2</td><td>4</td></tr>\n",
       "</tbody>\n",
       "</table>\n",
       "</dd>\n",
       "\t<dt>$vector</dt>\n",
       "\t\t<dd><ol class=list-inline>\n",
       "\t<li>1</li>\n",
       "\t<li>2</li>\n",
       "\t<li>3</li>\n",
       "\t<li>4</li>\n",
       "</ol>\n",
       "</dd>\n",
       "\t<dt>$morestuff</dt>\n",
       "\t\t<dd><ol class=list-inline>\n",
       "\t<li>'Albany'</li>\n",
       "\t<li>'New York'</li>\n",
       "\t<li>'San Francisco'</li>\n",
       "</ol>\n",
       "</dd>\n",
       "</dl>\n"
      ],
      "text/latex": [
       "\\begin{description}\n",
       "\\item[\\$stuff] 3\n",
       "\\item[\\$mat] \\begin{tabular}{ll}\n",
       "\t 1 & 3\\\\\n",
       "\t 2 & 4\\\\\n",
       "\\end{tabular}\n",
       "\n",
       "\\item[\\$vector] \\begin{enumerate*}\n",
       "\\item 1\n",
       "\\item 2\n",
       "\\item 3\n",
       "\\item 4\n",
       "\\end{enumerate*}\n",
       "\n",
       "\\item[\\$morestuff] \\begin{enumerate*}\n",
       "\\item 'Albany'\n",
       "\\item 'New York'\n",
       "\\item 'San Francisco'\n",
       "\\end{enumerate*}\n",
       "\n",
       "\\end{description}\n"
      ],
      "text/markdown": [
       "$stuff\n",
       ":   3\n",
       "$mat\n",
       ":   \n",
       "| 1 | 3 | \n",
       "| 2 | 4 | \n",
       "\n",
       "\n",
       "\n",
       "$vector\n",
       ":   1. 1\n",
       "2. 2\n",
       "3. 3\n",
       "4. 4\n",
       "\n",
       "\n",
       "\n",
       "$morestuff\n",
       ":   1. 'Albany'\n",
       "2. 'New York'\n",
       "3. 'San Francisco'\n",
       "\n",
       "\n",
       "\n",
       "\n",
       "\n"
      ],
      "text/plain": [
       "$stuff\n",
       "[1] 3\n",
       "\n",
       "$mat\n",
       "     [,1] [,2]\n",
       "[1,]    1    3\n",
       "[2,]    2    4\n",
       "\n",
       "$vector\n",
       "[1] 1 2 3 4\n",
       "\n",
       "$morestuff\n",
       "[1] \"Albany\"        \"New York\"      \"San Francisco\"\n"
      ]
     },
     "metadata": {},
     "output_type": "display_data"
    },
    {
     "data": {
      "text/html": [
       "<strong>$stuff</strong> = 3"
      ],
      "text/latex": [
       "\\textbf{\\$stuff} = 3"
      ],
      "text/markdown": [
       "**$stuff** = 3"
      ],
      "text/plain": [
       "$stuff\n",
       "[1] 3\n"
      ]
     },
     "metadata": {},
     "output_type": "display_data"
    },
    {
     "data": {
      "text/html": [
       "<strong>$mat</strong> = <table>\n",
       "<tbody>\n",
       "\t<tr><td>1</td><td>3</td></tr>\n",
       "\t<tr><td>2</td><td>4</td></tr>\n",
       "</tbody>\n",
       "</table>\n"
      ],
      "text/latex": [
       "\\textbf{\\$mat} = \\begin{tabular}{ll}\n",
       "\t 1 & 3\\\\\n",
       "\t 2 & 4\\\\\n",
       "\\end{tabular}\n"
      ],
      "text/markdown": [
       "**$mat** = \n",
       "| 1 | 3 | \n",
       "| 2 | 4 | \n",
       "\n",
       "\n"
      ],
      "text/plain": [
       "$mat\n",
       "     [,1] [,2]\n",
       "[1,]    1    3\n",
       "[2,]    2    4\n"
      ]
     },
     "metadata": {},
     "output_type": "display_data"
    },
    {
     "data": {
      "text/html": [
       "<dl>\n",
       "\t<dt>$mat</dt>\n",
       "\t\t<dd><table>\n",
       "<tbody>\n",
       "\t<tr><td>1</td><td>3</td></tr>\n",
       "\t<tr><td>2</td><td>4</td></tr>\n",
       "</tbody>\n",
       "</table>\n",
       "</dd>\n",
       "\t<dt>$vector</dt>\n",
       "\t\t<dd><ol class=list-inline>\n",
       "\t<li>1</li>\n",
       "\t<li>2</li>\n",
       "\t<li>3</li>\n",
       "\t<li>4</li>\n",
       "</ol>\n",
       "</dd>\n",
       "</dl>\n"
      ],
      "text/latex": [
       "\\begin{description}\n",
       "\\item[\\$mat] \\begin{tabular}{ll}\n",
       "\t 1 & 3\\\\\n",
       "\t 2 & 4\\\\\n",
       "\\end{tabular}\n",
       "\n",
       "\\item[\\$vector] \\begin{enumerate*}\n",
       "\\item 1\n",
       "\\item 2\n",
       "\\item 3\n",
       "\\item 4\n",
       "\\end{enumerate*}\n",
       "\n",
       "\\end{description}\n"
      ],
      "text/markdown": [
       "$mat\n",
       ":   \n",
       "| 1 | 3 | \n",
       "| 2 | 4 | \n",
       "\n",
       "\n",
       "\n",
       "$vector\n",
       ":   1. 1\n",
       "2. 2\n",
       "3. 3\n",
       "4. 4\n",
       "\n",
       "\n",
       "\n",
       "\n",
       "\n"
      ],
      "text/plain": [
       "$mat\n",
       "     [,1] [,2]\n",
       "[1,]    1    3\n",
       "[2,]    2    4\n",
       "\n",
       "$vector\n",
       "[1] 1 2 3 4\n"
      ]
     },
     "metadata": {},
     "output_type": "display_data"
    },
    {
     "data": {
      "text/html": [
       "<dl>\n",
       "\t<dt>$stuff</dt>\n",
       "\t\t<dd>3</dd>\n",
       "\t<dt>$morestuff</dt>\n",
       "\t\t<dd><ol class=list-inline>\n",
       "\t<li>'Albany'</li>\n",
       "\t<li>'New York'</li>\n",
       "\t<li>'San Francisco'</li>\n",
       "</ol>\n",
       "</dd>\n",
       "</dl>\n"
      ],
      "text/latex": [
       "\\begin{description}\n",
       "\\item[\\$stuff] 3\n",
       "\\item[\\$morestuff] \\begin{enumerate*}\n",
       "\\item 'Albany'\n",
       "\\item 'New York'\n",
       "\\item 'San Francisco'\n",
       "\\end{enumerate*}\n",
       "\n",
       "\\end{description}\n"
      ],
      "text/markdown": [
       "$stuff\n",
       ":   3\n",
       "$morestuff\n",
       ":   1. 'Albany'\n",
       "2. 'New York'\n",
       "3. 'San Francisco'\n",
       "\n",
       "\n",
       "\n",
       "\n",
       "\n"
      ],
      "text/plain": [
       "$stuff\n",
       "[1] 3\n",
       "\n",
       "$morestuff\n",
       "[1] \"Albany\"        \"New York\"      \"San Francisco\"\n"
      ]
     },
     "metadata": {},
     "output_type": "display_data"
    }
   ],
   "source": [
    "#myList <- list(stuff = 3, mat = matrix(1:4, nrow = 2), moreStuff = c('china', 'japan'), list(5, 'bear'))\n",
    "myList<-list(stuff=3,mat = matrix(1:4, nrow = 2),vector=c(1,2,3,4),morestuff=c(\"Albany\",\"New York\", \"San Francisco\"))\n",
    "myList\n",
    "\n",
    "#\n",
    "myList['stuff']\n",
    "myList[2]\n",
    "myList[2:3]\n",
    "myList[c(1,4)]\n"
   ]
  },
  {
   "cell_type": "markdown",
   "metadata": {
    "slideshow": {
     "slide_type": "slide"
    }
   },
   "source": [
    "## CREDITS\n",
    "\n",
    "Copyright [AnalyticsDojo](http://rpi.analyticsdojo.com) 2016\n",
    "This work is licensed under the [Creative Commons Attribution 4.0 International](https://creativecommons.org/licenses/by/4.0/) license agreement.\n",
    "\n",
    "Adopted from the [Berkley R Bootcamp](https://github.com/berkeley-scf/r-bootcamp-2016).\n",
    "\n"
   ]
  },
  {
   "cell_type": "code",
   "execution_count": null,
   "metadata": {},
   "outputs": [],
   "source": []
  }
 ],
 "metadata": {
  "anaconda-cloud": {},
  "celltoolbar": "Slideshow",
  "kernelspec": {
   "display_name": "R",
   "language": "R",
   "name": "ir"
  },
  "language_info": {
   "codemirror_mode": "r",
   "file_extension": ".r",
   "mimetype": "text/x-r-source",
   "name": "R",
   "pygments_lexer": "r",
   "version": "3.3.2"
  }
 },
 "nbformat": 4,
 "nbformat_minor": 1
}
