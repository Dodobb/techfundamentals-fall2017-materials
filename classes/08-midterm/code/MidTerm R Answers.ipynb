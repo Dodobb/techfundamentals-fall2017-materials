{
 "cells": [
  {
   "cell_type": "markdown",
   "metadata": {},
   "source": [
    "## Midterm Exam - R Section"
   ]
  },
  {
   "cell_type": "markdown",
   "metadata": {},
   "source": [
    "### 35.\t(USING R)  Create a function load_data to load a csv file and return a data frame.  The function should accept the directory (example path=’/data/class2’), the filename (example file = ‘userdata.csv’), returning a data frame.  Call the function using the userdata.csv file from the information sheet and assign it to the data frame userdata.   \n",
    "\n",
    "See R [https://github.com/AnalyticsDojo/materials/blob/master/analyticsdojo/classes/04-intro-r/intro-r-functions.ipynb](https://github.com/AnalyticsDojo/materials/blob/master/analyticsdojo/classes/04-intro-r/intro-r-functions.ipynb)."
   ]
  },
  {
   "cell_type": "code",
   "execution_count": null,
   "metadata": {
    "collapsed": true
   },
   "outputs": [],
   "source": []
  },
  {
   "cell_type": "markdown",
   "metadata": {},
   "source": [
    "### 36.\t(USING R)  Show the structure (indicating the type of each variable) of the userdata data frame. Also show the first few rows. (two commands).\n",
    "See [https://github.com/AnalyticsDojo/materials/blob/master/analyticsdojo/classes/04-intro-r/intro-r-dataframes.ipynb](https://github.com/AnalyticsDojo/materials/blob/master/analyticsdojo/classes/04-intro-r/intro-r-dataframes.ipynb)"
   ]
  },
  {
   "cell_type": "code",
   "execution_count": null,
   "metadata": {
    "collapsed": true
   },
   "outputs": [],
   "source": []
  },
  {
   "cell_type": "markdown",
   "metadata": {},
   "source": [
    "### 37.\t(USING R)  In the userdata data frame, recode the avgsales variable from a character type to numeric and the gender to 0/1 for male/female. \n",
    "See [https://www.kaggle.com/analyticsdojo/titanic/titanic-baseline-models-analyticsdojo-r](https://www.kaggle.com/analyticsdojo/titanic/titanic-baseline-models-analyticsdojo-r) and [https://github.com/AnalyticsDojo/materials/blob/master/analyticsdojo/classes/05-intro-r2/intro-r-conditionals-loops.ipynb](https://github.com/AnalyticsDojo/materials/blob/master/analyticsdojo/classes/05-intro-r2/intro-r-conditionals-loops.ipynb) and [https://github.com/AnalyticsDojo/materials/blob/master/analyticsdojo/classes/05-intro-r2/intro-r-tidyverse.ipynb](https://github.com/AnalyticsDojo/materials/blob/master/analyticsdojo/classes/05-intro-r2/intro-r-tidyverse.ipynb)"
   ]
  },
  {
   "cell_type": "code",
   "execution_count": null,
   "metadata": {
    "collapsed": true
   },
   "outputs": [],
   "source": []
  },
  {
   "cell_type": "markdown",
   "metadata": {},
   "source": [
    "### 38. (USING R)  Show the variable names of the userdata data frame and assign them to the names vector. \n",
    "See [https://github.com/AnalyticsDojo/materials/blob/master/analyticsdojo/classes/04-intro-r/intro-r-dataframes.ipynb](https://github.com/AnalyticsDojo/materials/blob/master/analyticsdojo/classes/04-intro-r/intro-r-dataframes.ipynb)\n",
    "\n"
   ]
  },
  {
   "cell_type": "code",
   "execution_count": null,
   "metadata": {
    "collapsed": true
   },
   "outputs": [],
   "source": []
  },
  {
   "cell_type": "markdown",
   "metadata": {},
   "source": [
    "### 39. (USING R) For the avgsales column of the userdata data frame, calculate the mean (ignoring NA’s) and assign it to the avgsalesmean variable.   Then assign the avgsalesmean to the variables that are NA in the avgsales column. \n",
    "See [https://github.com/AnalyticsDojo/materials/blob/master/analyticsdojo/classes/04-intro-r/intro-r-functions.ipynb](https://github.com/AnalyticsDojo/materials/blob/master/analyticsdojo/classes/04-intro-r/intro-r-functions.ipynb) and [https://github.com/AnalyticsDojo/materials/blob/master/analyticsdojo/classes/04-intro-r/intro-r-datastructures.ipynb](https://github.com/AnalyticsDojo/materials/blob/master/analyticsdojo/classes/04-intro-r/intro-r-datastructures.ipynb)\n",
    "\n"
   ]
  },
  {
   "cell_type": "code",
   "execution_count": null,
   "metadata": {
    "collapsed": true
   },
   "outputs": [],
   "source": []
  },
  {
   "cell_type": "markdown",
   "metadata": {},
   "source": [
    "### 40.\t(USING R) Install an external package called ggplot2 then load it into memory so that it can be used in a script. Then produce a scatter plot using the userdata data frame with avgsales on the y axis and tenure on the x axis. \n",
    "See [https://github.com/AnalyticsDojo/materials/blob/master/analyticsdojo/classes/04-intro-r/intro-r-overview.ipynb](https://github.com/AnalyticsDojo/materials/blob/master/analyticsdojo/classes/04-intro-r/intro-r-overview.ipynb)\n",
    "\n"
   ]
  },
  {
   "cell_type": "code",
   "execution_count": null,
   "metadata": {
    "collapsed": true
   },
   "outputs": [],
   "source": []
  },
  {
   "cell_type": "markdown",
   "metadata": {},
   "source": [
    "### 41.\t(USING R) From the userdata data frame select only the rows 1-400 and assign it to a new data frame called usertrain. Assign the remainder of rows to the usertest data frame. \n",
    "[https://github.com/AnalyticsDojo/materials/blob/master/analyticsdojo/classes/04-intro-r/intro-r-dataframes.ipynb](https://github.com/AnalyticsDojo/materials/blob/master/analyticsdojo/classes/04-intro-r/intro-r-dataframes.ipynb)\n",
    "\n"
   ]
  },
  {
   "cell_type": "code",
   "execution_count": null,
   "metadata": {
    "collapsed": true
   },
   "outputs": [],
   "source": []
  },
  {
   "cell_type": "markdown",
   "metadata": {},
   "source": [
    "### 42.\t(USING R)  From the userdata  data frame select only the ‘id’, ‘avgsales’, and ‘repeat’ columns and create a new data frame called userselected  with just these columns. \n",
    "See [https://github.com/AnalyticsDojo/materials/blob/master/analyticsdojo/classes/04-intro-r/intro-r-dataframes.ipynb](https://github.com/AnalyticsDojo/materials/blob/master/analyticsdojo/classes/04-intro-r/intro-r-dataframes.ipynb).\n",
    "\n"
   ]
  },
  {
   "cell_type": "code",
   "execution_count": null,
   "metadata": {
    "collapsed": true
   },
   "outputs": [],
   "source": []
  },
  {
   "cell_type": "markdown",
   "metadata": {},
   "source": [
    "### 43.\t (USING R)  Load the userdata2.csv file  (you can use your previously defined function)  into a userdata data frame and recode the tenure column so that it is in years rather than months. "
   ]
  },
  {
   "cell_type": "code",
   "execution_count": null,
   "metadata": {
    "collapsed": true
   },
   "outputs": [],
   "source": []
  },
  {
   "cell_type": "markdown",
   "metadata": {},
   "source": [
    "### 44.\t(USING R)  Combine the userdata data frame and the userdata2 data frame into a new data frame userdataall. \n",
    "See [https://github.com/AnalyticsDojo/materials/blob/master/analyticsdojo/classes/05-intro-r2/intro-r-merge-agg-fun.ipynb](https://github.com/AnalyticsDojo/materials/blob/master/analyticsdojo/classes/05-intro-r2/intro-r-merge-agg-fun.ipynb)\n",
    "\n"
   ]
  },
  {
   "cell_type": "code",
   "execution_count": null,
   "metadata": {
    "collapsed": true
   },
   "outputs": [],
   "source": []
  },
  {
   "cell_type": "markdown",
   "metadata": {},
   "source": [
    "### 45.\t(USING R) Create a vector newkey with sequential numbers 1 to the length of data frame and then add it to the userdataall data frame as a new column."
   ]
  },
  {
   "cell_type": "code",
   "execution_count": null,
   "metadata": {
    "collapsed": true
   },
   "outputs": [],
   "source": []
  },
  {
   "cell_type": "markdown",
   "metadata": {},
   "source": [
    "### 46.\t (USING R) Load facebookusers.csv to the data frame facebookusers (you can use your previously defined function).   Merge the facebookuser data frame with userdata data frame into userdatafb data frame. See [https://github.com/AnalyticsDojo/materials/blob/master/analyticsdojo/classes/05-intro-r2/intro-r-merge-agg-fun.ipynb](https://github.com/AnalyticsDojo/materials/blob/master/analyticsdojo/classes/05-intro-r2/intro-r-merge-agg-fun.ipynb)\n",
    "\n"
   ]
  },
  {
   "cell_type": "code",
   "execution_count": null,
   "metadata": {
    "collapsed": true
   },
   "outputs": [],
   "source": []
  },
  {
   "cell_type": "markdown",
   "metadata": {},
   "source": [
    " \n",
    "### 35.\t(USING R)  Create a function load_data to load a csv file and return a data frame.  The function should accept the directory (example path=’/data/class2’), the filename (example file = ‘userdata.csv’), returning a data frame.  Call the function using the userdata.csv file from the information sheet and assign it to the data frame userdata.   \n",
    "\n",
    "### See R [https://github.com/AnalyticsDojo/materials/blob/master/analyticsdojo/classes/04-intro-r/intro-r-functions.ipynb](https://github.com/AnalyticsDojo/materials/blob/master/analyticsdojo/classes/04-intro-r/intro-r-functions.ipynb).\n",
    "```{r}\n",
    "#OPTION1\n",
    "load_data<-function(path,file){\n",
    "  setwd(path)\n",
    "  df<- read.csv(file)\n",
    "}\n",
    "#OPTION2\n",
    "load_datab<-function(path,file){\n",
    "  full<-paste(path, file, sep=\"\")\n",
    "  df<- read.csv(full)\n",
    "  return (df)\n",
    "}\n",
    "\n",
    "path=\"~/githubdesktop/materials/analyticsdojo/privatenotebooks/midterm/data/\"\n",
    "file<-'userdata.csv'\n",
    "userdata<-load_data(path,file)\n",
    "userdatab<-load_datab(path,file)\n",
    "```\n",
    " \n",
    "### 36.\t(USING R)  Show the structure (indicating the type of each variable) of the userdata data frame. Also show the first few rows. (two commands).\n",
    "See [https://github.com/AnalyticsDojo/materials/blob/master/analyticsdojo/classes/04-intro-r/intro-r-dataframes.ipynb](https://github.com/AnalyticsDojo/materials/blob/master/analyticsdojo/classes/04-intro-r/intro-r-dataframes.ipynb)\n",
    "```{r}\n",
    "#Part A\n",
    "str(userdata)\n",
    "#Part B\n",
    "head(userdata)\n",
    "#or\n",
    "userdata[1:5,]\n",
    "\n",
    "```\n",
    "\n",
    "### 37.\t(USING R)  In the userdata data frame, recode the avgsales variable from a character type to numeric and the gender to 0/1 for male/female. See [https://www.kaggle.com/analyticsdojo/titanic/titanic-baseline-models-analyticsdojo-r](https://www.kaggle.com/analyticsdojo/titanic/titanic-baseline-models-analyticsdojo-r) and [https://github.com/AnalyticsDojo/materials/blob/master/analyticsdojo/classes/05-intro-r2/intro-r-conditionals-loops.ipynb](https://github.com/AnalyticsDojo/materials/blob/master/analyticsdojo/classes/05-intro-r2/intro-r-conditionals-loops.ipynb) and [https://github.com/AnalyticsDojo/materials/blob/master/analyticsdojo/classes/05-intro-r2/intro-r-tidyverse.ipynb](https://github.com/AnalyticsDojo/materials/blob/master/analyticsdojo/classes/05-intro-r2/intro-r-tidyverse.ipynb)\n",
    "\n",
    "\n",
    "\n",
    "```{r}\n",
    "#Recoding data\n",
    "userdata$avgsales<-as.character(userdata$avgsales)\n",
    "userdata$avgsales<-as.numeric(userdata$avgsales)\n",
    "\n",
    "\n",
    "#Option 1\n",
    "#  https://www.kaggle.com/analyticsdojo/titanic/titanic-baseline-models-analyticsdojo-r \n",
    "userdata$gender2<-1\n",
    "userdata[userdata[\"gender\"] == \"male\", \"gender2\"] <- 0\n",
    "userdata$gender<-userdata$gender2\n",
    "\n",
    "#Option 2\n",
    "#https://github.com/AnalyticsDojo/materials/blob/master/analyticsdojo/classes/05-intro-r2/intro-r-conditionals-loops.ipynb\n",
    "userdatab$genderb<-ifelse(userdatab$gender == \"male\", 0, 1)\n",
    "\n",
    "#Option 3\n",
    "#https://github.com/AnalyticsDojo/materials/blob/master/analyticsdojo/classes/05-intro-r2/intro-r-tidyverse.ipynb\n",
    "library(tidyverse)\n",
    "userdatab<-mutate(userdatab, gender3 = ifelse(gender == \"male\", 0, 1))  \n",
    "\n",
    "#Option 4\n",
    "#could do with subset also.\n",
    "\n",
    "```\n",
    "\n",
    "### 38. (USING R)  Show the variable names of the userdata data frame and assign them to the names vector. See [https://github.com/AnalyticsDojo/materials/blob/master/analyticsdojo/classes/04-intro-r/intro-r-dataframes.ipynb](https://github.com/AnalyticsDojo/materials/blob/master/analyticsdojo/classes/04-intro-r/intro-r-dataframes.ipynb)\n",
    "\n",
    "\n",
    "`names<-names(userdata)`\n",
    "\n",
    " \n",
    "### 39. (USING R) For the avgsales column of the userdata data frame, calculate the mean (ignoring NA’s) and assign it to the avgsalesmean variable.   Then assign the avgsalesmean to the variables that are NA in the avgsales column. See [https://github.com/AnalyticsDojo/materials/blob/master/analyticsdojo/classes/04-intro-r/intro-r-functions.ipynb](https://github.com/AnalyticsDojo/materials/blob/master/analyticsdojo/classes/04-intro-r/intro-r-functions.ipynb) and [https://github.com/AnalyticsDojo/materials/blob/master/analyticsdojo/classes/04-intro-r/intro-r-datastructures.ipynb](https://github.com/AnalyticsDojo/materials/blob/master/analyticsdojo/classes/04-intro-r/intro-r-datastructures.ipynb)\n",
    "\n",
    "```{r}\n",
    "avgsalesmean<-mean(userdata$avgsales, na.rm = TRUE)\n",
    "\n",
    "#This doesn't work but give credit\n",
    "#userdata[userdata$avgsales == NA, \"avgsales\"] <- avgsalesmean\n",
    "\n",
    "\n",
    "userdata[is.na(userdata$avgsales), \"avgsales\"] <- avgsalesmean\n",
    "``` \n",
    "\n",
    "### 40.\t(USING R) Install an external package called ggplot2 then load it into memory so that it can be used in a script. Then produce a scatter plot using the userdata data frame with avgsales on the y axis and tenure on the x axis. \n",
    "See [https://github.com/AnalyticsDojo/materials/blob/master/analyticsdojo/classes/04-intro-r/intro-r-overview.ipynb](https://github.com/AnalyticsDojo/materials/blob/master/analyticsdojo/classes/04-intro-r/intro-r-overview.ipynb)\n",
    "\n",
    "```\n",
    "install.packages(\"ggplot2\")\n",
    "library(\"ggplot2\")\n",
    "```\n",
    " \n",
    "### 41.\t(USING R) From the userdata data frame select only the rows 1-400 and assign it to a new data frame called usertrain. Assign the remainder of rows to the usertest data frame. \n",
    "[https://github.com/AnalyticsDojo/materials/blob/master/analyticsdojo/classes/04-intro-r/intro-r-dataframes.ipynb](https://github.com/AnalyticsDojo/materials/blob/master/analyticsdojo/classes/04-intro-r/intro-r-dataframes.ipynb)\n",
    "\n",
    "usertrain<-userdata[1:400,]\n",
    "usertest<-userdata[401:799,]\n",
    "rows(userdata)\n",
    "\n",
    "### 42.\t(USING R)  From the userdata  data frame select only the ‘id’, ‘avgsales’, and ‘repeat’ columns and create a new data frame called userselected  with just these columns. \n",
    "See [https://github.com/AnalyticsDojo/materials/blob/master/analyticsdojo/classes/04-intro-r/intro-r-dataframes.ipynb](https://github.com/AnalyticsDojo/materials/blob/master/analyticsdojo/classes/04-intro-r/intro-r-dataframes.ipynb).\n",
    "\n",
    "\n",
    "`userselected<-userdata[,c('id','avgsales','repeated')]`\n",
    "\n",
    "### 43.\t (USING R)  Load the userdata2.csv file  (you can use your previously defined function)  into a userdata data frame and recode the tenure column so that it is in years rather than months. \n",
    "\n",
    "```\n",
    "userdata2<-load_data(path,'userdata2.csv')\n",
    "userdata2$tenure<-userdata2$tenure/12\n",
    "```\n",
    "\n",
    "\n",
    "### 44.\t(USING R)  Combine the userdata data frame and the userdata2 data frame into a new data frame userdataall. \n",
    "See [https://github.com/AnalyticsDojo/materials/blob/master/analyticsdojo/classes/05-intro-r2/intro-r-merge-agg-fun.ipynb](https://github.com/AnalyticsDojo/materials/blob/master/analyticsdojo/classes/05-intro-r2/intro-r-merge-agg-fun.ipynb)\n",
    "\n",
    "`userdataall<-rbind(userdata, userdata2)`\n",
    "\n",
    "\n",
    " \n",
    "### 45.\t(USING R) Create a vector newkey with sequential numbers 1 to the length of data frame and then add it to the userdataall data frame as a new column.\n",
    "\n",
    "```{r}\n",
    "n<-nrow(userdataall)\n",
    "newkey<-1:n\n",
    "newkey2<-1:1631\n",
    "userdataall$newkey<-newkey\n",
    "```\n",
    " \n",
    "### 46.\t (USING R) Load facebookusers.csv to the data frame facebookusers (you can use your previously defined function).   Merge the facebookuser data frame with userdata data frame into userdatafb data frame. See [https://github.com/AnalyticsDojo/materials/blob/master/analyticsdojo/classes/05-intro-r2/intro-r-merge-agg-fun.ipynb](https://github.com/AnalyticsDojo/materials/blob/master/analyticsdojo/classes/05-intro-r2/intro-r-merge-agg-fun.ipynb)\n",
    "\n",
    "```{r}\n",
    "facebookusers<-load_data(path,'facebookusers.csv')\n",
    "userdatafb<-merge(userdata,facebookusers,key='id')\n",
    "```"
   ]
  }
 ],
 "metadata": {
  "kernelspec": {
   "display_name": "R",
   "language": "R",
   "name": "ir"
  },
  "language_info": {
   "codemirror_mode": "r",
   "file_extension": ".r",
   "mimetype": "text/x-r-source",
   "name": "R",
   "pygments_lexer": "r",
   "version": "3.3.1"
  }
 },
 "nbformat": 4,
 "nbformat_minor": 0
}
