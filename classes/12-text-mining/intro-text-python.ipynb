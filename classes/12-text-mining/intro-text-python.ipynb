{
 "cells": [
  {
   "cell_type": "markdown",
   "metadata": {
    "slideshow": {
     "slide_type": "slide"
    }
   },
   "source": [
    "# Feature Creation and Text Mining in Python\n"
   ]
  },
  {
   "cell_type": "markdown",
   "metadata": {},
   "source": [
    "### Links: [local](http://localhost:8888/notebooks/classes/12-text-mining/intro-text-python.ipynb) [github](https://github.com/AnalyticsDojo/materials/blob/master/analyticsdojo/classes/12-text-mining/intro-text-python.ipynb) [slides](http://nbviewer.jupyter.org/format/slides/github/AnalyticsDojo/materials/blob/master/analyticsdojo/classes/12-text-mining/intro-text-python.ipynb#/)"
   ]
  },
  {
   "cell_type": "code",
   "execution_count": 6,
   "metadata": {
    "collapsed": true
   },
   "outputs": [],
   "source": [
    "import numpy as np\n",
    "import pandas as pd\n",
    "\n"
   ]
  },
  {
   "cell_type": "markdown",
   "metadata": {},
   "source": [
    "## Introduction to Text Mining in Python\n",
    "These exercises were adapted from Mining the Social Web, 2nd Edition [See origional here](https://github.com/ptwobrussell/Mining-the-Social-Web-2nd-Edition/) \n",
    "Simplified BSD License that governs its use.\n"
   ]
  },
  {
   "cell_type": "code",
   "execution_count": 9,
   "metadata": {
    "collapsed": false
   },
   "outputs": [
    {
     "data": {
      "text/plain": [
       "{'a': ['mr.',\n",
       "  'green',\n",
       "  'killed',\n",
       "  'colonel',\n",
       "  'mustard',\n",
       "  'in',\n",
       "  'the',\n",
       "  'study',\n",
       "  'with',\n",
       "  'the',\n",
       "  'candlestick.',\n",
       "  'mr.',\n",
       "  'green',\n",
       "  'is',\n",
       "  'not',\n",
       "  'a',\n",
       "  'very',\n",
       "  'nice',\n",
       "  'fellow.'],\n",
       " 'b': ['professor',\n",
       "  'plum',\n",
       "  'has',\n",
       "  'a',\n",
       "  'green',\n",
       "  'plant',\n",
       "  'in',\n",
       "  'his',\n",
       "  'study.'],\n",
       " 'c': ['miss',\n",
       "  'scarlett',\n",
       "  'watered',\n",
       "  'professor',\n",
       "  \"plum's\",\n",
       "  'green',\n",
       "  'plant',\n",
       "  'while',\n",
       "  'he',\n",
       "  'was',\n",
       "  'away',\n",
       "  'from',\n",
       "  'his',\n",
       "  'office',\n",
       "  'last',\n",
       "  'week.']}"
      ]
     },
     "execution_count": 9,
     "metadata": {},
     "output_type": "execute_result"
    }
   ],
   "source": [
    " corpus = { \n",
    " 'a' : \"Mr. Green killed Colonel Mustard in the study with the candlestick. \\\n",
    "Mr. Green is not a very nice fellow.\",\n",
    " 'b' : \"Professor Plum has a green plant in his study.\",\n",
    " 'c' : \"Miss Scarlett watered Professor Plum's green plant while he was away \\\n",
    "from his office last week.\"\n",
    "}\n",
    "\n",
    "#This will separate the documents (sentences) into terms\n",
    "terms = {\n",
    " 'a' : [ i.lower() for i in corpus['a'].split() ],\n",
    " 'b' : [ i.lower() for i in corpus['b'].split() ],\n",
    " 'c' : [ i.lower() for i in corpus['c'].split() ]\n",
    " }\n",
    "terms"
   ]
  },
  {
   "cell_type": "code",
   "execution_count": 13,
   "metadata": {
    "collapsed": false
   },
   "outputs": [
    {
     "name": "stdout",
     "output_type": "stream",
     "text": [
      "a : Mr. Green killed Colonel Mustard in the study with the candlestick. Mr. Green is not a very nice fellow.\n",
      "b : Professor Plum has a green plant in his study.\n",
      "c : Miss Scarlett watered Professor Plum's green plant while he was away from his office last week.\n",
      "TF(a): mr. 0.10526315789473684\n",
      "TF(b): mr. 0.0\n",
      "TF(c): mr. 0.0\n",
      "TF(a): green 0.10526315789473684\n",
      "TF(b): green 0.1111111111111111\n",
      "TF(c): green 0.0625\n",
      "This does the same thing but unnormalized.\n",
      "TF(a): mr. 2.0\n",
      "TF(b): mr. 0.0\n",
      "TF(c): mr. 0.0\n",
      "TF(a): green 2.0\n",
      "TF(b): green 1.0\n",
      "TF(c): green 1.0\n"
     ]
    }
   ],
   "source": [
    "from math import log\n",
    "\n",
    "# XXX: Enter in a query term from the corpus variable\n",
    "\n",
    "#This is our terms we would like to use.\n",
    "QUERY_TERMS = ['mr.', 'green']\n",
    "\n",
    "#This calculates the term frequency normalized by the length.\n",
    "def tf(term, doc, normalize):\n",
    "    doc = doc.lower().split()\n",
    "    if normalize:\n",
    "        return doc.count(term.lower()) / float(len(doc))\n",
    "    else:\n",
    "        return doc.count(term.lower()) / 1.0\n",
    "\n",
    "for (k, v) in sorted(corpus.items()):\n",
    "    print (k, ':', v)\n",
    "\n",
    "    \n",
    "# Score queries by calculating cumulative tf_idf score for each term in query\n",
    "query_scores = {'a': 0, 'b': 0, 'c': 0}\n",
    "\n",
    "#This starts the search for each query\n",
    "for term in [t.lower() for t in QUERY_TERMS]:\n",
    "    #This starts the search for each document in the corpus\n",
    "    for doc in sorted(corpus):\n",
    "        print ('TF(%s): %s' % (doc, term), tf(term, corpus[doc], True))\n",
    "        \n",
    "       \n",
    "print (\"This does the same thing but unnormalized.\")\n",
    "for term in [t.lower() for t in QUERY_TERMS]:\n",
    "    #This starts the search for each document in the corpus\n",
    "    for doc in sorted(corpus):\n",
    "        print ('TF(%s): %s' % (doc, term), tf(term, corpus[doc], False))\n",
    "    \n",
    "  \n",
    "\n",
    "\n",
    "    "
   ]
  },
  {
   "cell_type": "code",
   "execution_count": 14,
   "metadata": {
    "collapsed": false
   },
   "outputs": [
    {
     "name": "stdout",
     "output_type": "stream",
     "text": [
      "IDF: mr. 2.09861228866811\n",
      "IDF: green 1.0\n"
     ]
    }
   ],
   "source": [
    "def idf(term, corpus):\n",
    "    num_texts_with_term = len([True for text in corpus if term.lower()\n",
    "                              in text.lower().split()])\n",
    "\n",
    "    # tf-idf calc involves multiplying against a tf value less than 0, so it's\n",
    "    # necessary to return a value greater than 1 for consistent scoring. \n",
    "    # (Multiplying two values less than 1 returns a value less than each of \n",
    "    # them.)\n",
    "    \n",
    "\n",
    "    try:\n",
    "        return 1.0 + log(float(len(corpus)) / num_texts_with_term)\n",
    "    except ZeroDivisionError:\n",
    "        return 1.0\n",
    "\n",
    "#This \n",
    "for term in [t.lower() for t in QUERY_TERMS]:\n",
    "        print ('IDF: %s' % (term, ), idf(term, corpus.values()))\n",
    "        \n",
    "\n",
    "\n"
   ]
  },
  {
   "cell_type": "code",
   "execution_count": 17,
   "metadata": {
    "collapsed": false
   },
   "outputs": [
    {
     "name": "stdout",
     "output_type": "stream",
     "text": [
      "TF(a): mr. 0.10526315789473684\n",
      "TF(b): mr. 0.0\n",
      "TF(c): mr. 0.0\n",
      "IDF: mr. 2.09861228866811\n",
      "TF-IDF(a): mr. 0.22090655670190631\n",
      "TF-IDF(b): mr. 0.0\n",
      "TF-IDF(c): mr. 0.0\n",
      "TF(a): green 0.10526315789473684\n",
      "TF(b): green 0.1111111111111111\n",
      "TF(c): green 0.0625\n",
      "IDF: green 1.0\n",
      "TF-IDF(a): green 0.10526315789473684\n",
      "TF-IDF(b): green 0.1111111111111111\n",
      "TF-IDF(c): green 0.0625\n",
      "Overall TF-IDF scores for query 'mr. green'\n",
      "a 0.3261697145966431\n",
      "b 0.1111111111111111\n",
      "c 0.0625\n"
     ]
    }
   ],
   "source": [
    "\n",
    "#TF-IDF Just multiplies the two together\n",
    "def tf_idf(term, doc, corpus):\n",
    "    return tf(term, doc, True) * idf(term, corpus)\n",
    "\n",
    "query_scores = {'a': 0, 'b': 0, 'c': 0}\n",
    "for term in [t.lower() for t in QUERY_TERMS]:\n",
    "    for doc in sorted(corpus):\n",
    "        print ('TF(%s): %s' % (doc, term), tf(term, corpus[doc], True))\n",
    "    print ('IDF: %s' % (term, ), idf(term, corpus.values()))\n",
    "\n",
    "\n",
    "    for doc in sorted(corpus):\n",
    "        score = tf_idf(term, corpus[doc], corpus.values())\n",
    "        print ('TF-IDF(%s): %s' % (doc, term), score)\n",
    "        query_scores[doc] += score\n",
    "\n",
    "\n",
    "print (\"Overall TF-IDF scores for query '%s'\" % (' '.join(QUERY_TERMS), ))\n",
    "for (doc, score) in sorted(query_scores.items()):\n",
    "    print (doc, score)"
   ]
  },
  {
   "cell_type": "code",
   "execution_count": null,
   "metadata": {
    "collapsed": true
   },
   "outputs": [],
   "source": []
  }
 ],
 "metadata": {
  "celltoolbar": "Slideshow",
  "kernelspec": {
   "display_name": "Python 3",
   "language": "python",
   "name": "python3"
  },
  "language_info": {
   "codemirror_mode": {
    "name": "ipython",
    "version": 3
   },
   "file_extension": ".py",
   "mimetype": "text/x-python",
   "name": "python",
   "nbconvert_exporter": "python",
   "pygments_lexer": "ipython3",
   "version": "3.5.2"
  }
 },
 "nbformat": 4,
 "nbformat_minor": 0
}
