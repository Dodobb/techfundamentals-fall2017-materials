{
 "cells": [
  {
   "cell_type": "markdown",
   "metadata": {
    "slideshow": {
     "slide_type": "slide"
    }
   },
   "source": [
    "# GIT and Version Control (An Overview)\n",
    "\n",
    "Adopted from the great work of the folks at [Software Carpentry](https://software-carpentry.org) from this [git repository](https://github.com/swcarpentry/git-novice) made available under the [Creative Commons Attribution\n",
    "license][cc-by-human]. The following is a human-readable summary of\n",
    "(and not a substitute for) the [full legal text of the CC BY 4.0\n",
    "license][cc-by-legal]. \n"
   ]
  },
  {
   "cell_type": "markdown",
   "metadata": {
    "slideshow": {
     "slide_type": "subslide"
    }
   },
   "source": [
    "[![Piled Higher and Deeper by Jorge Cham, http://www.phdcomics.com/comics/archive_print.php?comicid=1531](../fig/phd101212s.png)](http://www.phdcomics.com)\n",
    "\n",
    "\"Piled Higher and Deeper\" by Jorge Cham, http://www.phdcomics.com"
   ]
  },
  {
   "cell_type": "markdown",
   "metadata": {
    "slideshow": {
     "slide_type": "subslide"
    }
   },
   "source": [
    "## Have You Been There?  \n",
    "- Multiple nearly-identical versions of the same document\n",
    "- Confusing to identify order of changes and true final version\n",
    "- Word and Google docs have \"track changes\" mode to enavle some better workflow\n",
    "\n",
    "\n"
   ]
  },
  {
   "cell_type": "markdown",
   "metadata": {
    "slideshow": {
     "slide_type": "subslide"
    }
   },
   "source": [
    "## Reproducablity is Critical for Science (and don't think that data science isn't science)\n",
    "\n",
    "```\n",
    "\"Science is facing a 'reproducibility crisis' where more than two-thirds of researchers have tried and failed to reproduce another scientist's experiments, research suggests.\"\n",
    "```\n",
    "  -[BBC News Article](http://www.bbc.com/news/science-environment-39054778)\n",
    "\n",
    "```\n",
    "\"[...] Manage versions. Manage data versions. Being able to reproduce the models. What if, you know, the data disappears, the person disappears, the model disappears... And we cannot reproduce this. I have seen this hundreds of times in Bing. I have seen it every day. Like... Oh yeah, we had a good model. Ok, I need to tweak it. I need to understand it. And then... Now we cannot reproduce it. That is my biggest nightmare!” \n",
    "```\n",
    "  -Microsoft Employee Answering question \"What is your worst nightmare? (Related to Machine Learning Systems)\" as quoted in [*Machine Teaching: A New Paradigm for Building Machine Learning Systems*](https://arxiv.org/abs/1707.06742v2)\n",
    "\n",
    "\n"
   ]
  },
  {
   "cell_type": "markdown",
   "metadata": {
    "slideshow": {
     "slide_type": "subslide"
    }
   },
   "source": [
    "## The Long History of Version Control Systems in CS/Application Development\n",
    "\n",
    "- Automated version control systems (VCS) are nothing new.\n",
    "- Tools like RCS, CVS, or Subversion have been around since the early 1980s and are used by many large companies.\n",
    "- However, many of these are now becoming considered as legacy systems due to various limitations in their capabilities.\n",
    "- In particular, the more modern systems, such as Git and [Mercurial](http://swcarpentry.github.io/hg-novice/) are *distributed*, meaning that they do not need a centralized server to host the repository.\n",
    "- New Data Science specific VCS like [Pachyderm](http://www.pachyderm.io) emerging.\n"
   ]
  },
  {
   "cell_type": "markdown",
   "metadata": {
    "slideshow": {
     "slide_type": "subslide"
    }
   },
   "source": [
    "## Github and  GitHub Desktop\n",
    "- If not too familiar with command line (or even if you are) Github Desktop is convenient.\n",
    "- We will introduce concepts and leave it to you to do more in-depth study. \n",
    "- Help for using the desktop software is [here](https://help.github.com/desktop-beta/guides/getting-started-with-github-desktop/).\n",
    "- Create an ID on the [GitHub](http://github.com/) website."
   ]
  },
  {
   "cell_type": "markdown",
   "metadata": {
    "slideshow": {
     "slide_type": "subslide"
    }
   },
   "source": [
    "## Configuring GIT\n",
    "\n",
    "When we use Git on a new computer for the first time,\n",
    "we need to configure a few things. Below are a few examples\n",
    "of configurations we will set as we get started with Git:\n",
    "\n",
    "-   our name and email address,\n",
    "-   to colorize our output,\n",
    "-   what our preferred text editor is,\n",
    "-   and that we want to use these settings globally (i.e. for every project)\n",
    "\n",
    "```{bash}\n",
    "$ git config --global user.name \"Vlad Dracula\"\n",
    "$ git config --global user.email \"vlad@tran.sylvan.ia\"\n",
    "$ git config --global color.ui \"auto\"\n",
    "```\n"
   ]
  },
  {
   "cell_type": "code",
   "execution_count": null,
   "metadata": {
    "collapsed": true,
    "slideshow": {
     "slide_type": "subslide"
    }
   },
   "outputs": [],
   "source": [
    "!git config --global user.name \"<your name>\"\n"
   ]
  },
  {
   "cell_type": "code",
   "execution_count": null,
   "metadata": {
    "collapsed": true,
    "slideshow": {
     "slide_type": "subslide"
    }
   },
   "outputs": [],
   "source": [
    "!git config --global user.email \"jkuruzovich@gmail.com\""
   ]
  },
  {
   "cell_type": "code",
   "execution_count": 1,
   "metadata": {},
   "outputs": [
    {
     "name": "stdout",
     "output_type": "stream",
     "text": [
      "credential.helper=osxkeychain\r\n",
      "filter.lfs.required=true\r\n",
      "filter.lfs.clean=git-lfs clean -- %f\r\n",
      "filter.lfs.smudge=git-lfs smudge -- %f\r\n",
      "filter.lfs.process=git-lfs filter-process\r\n",
      "user.name=Jason Kuruzovich\r\n",
      "user.email=jkuruzovich@gmail.com\r\n",
      "core.repositoryformatversion=0\r\n",
      "core.filemode=true\r\n",
      "core.bare=false\r\n",
      "core.logallrefupdates=true\r\n",
      "core.ignorecase=true\r\n",
      "core.precomposeunicode=true\r\n",
      "remote.origin.url=https://github.com/jkuruzovich/techfundamentals-fall2017-materials.git\r\n",
      "remote.origin.fetch=+refs/heads/*:refs/remotes/origin/*\r\n",
      "branch.master.remote=origin\r\n",
      "branch.master.merge=refs/heads/master\r\n"
     ]
    }
   ],
   "source": [
    "# Use this to confirm your settings\n",
    "!git config --list"
   ]
  },
  {
   "cell_type": "markdown",
   "metadata": {},
   "source": [
    "## Installing Git \n",
    "Once Git is configured,\n",
    "we can start using it.\n",
    "Let's create a directory for our work and then move into that directory:\n",
    "\n",
    "```{bash}\n",
    "$ mkdir planets\n",
    "$ cd planets\n",
    "```\n",
    "\n",
    "\n",
    "Then we tell Git to make `planets` a [repository]({{ page.root }}/reference/#repository)—a place where\n",
    "Git can store versions of our files:\n",
    "\n",
    "```{bash}\n",
    "$ git init\n",
    "```\n",
    "\n",
    "\n",
    "If we use `ls` to show the directory's contents,\n",
    "it appears that nothing has changed:\n",
    "\n",
    "```\n",
    "$ ls\n",
    "```\n",
    "\n",
    "\n",
    "But if we add the `-a` flag to show everything,\n",
    "we can see that Git has created a hidden directory within `planets` called `.git`:\n",
    "\n",
    "```\n",
    "$ ls -a\n",
    "```\n",
    "\n",
    "\n",
    "```\n",
    ".\t..\t.git\n",
    "```\n",
    "\n",
    "\n",
    "Git stores information about the project in this special sub-directory.\n",
    "If we ever delete it,\n",
    "we will lose the project's history.\n",
    "\n",
    "We can check that everything is set up correctly\n",
    "by asking Git to tell us the status of our project:\n",
    "\n",
    "```\n",
    "$ git status\n",
    "```\n",
    "\n"
   ]
  },
  {
   "cell_type": "code",
   "execution_count": null,
   "metadata": {
    "collapsed": true
   },
   "outputs": [],
   "source": [
    "#This is how we create a directory\n",
    "!mkdir planets"
   ]
  },
  {
   "cell_type": "code",
   "execution_count": null,
   "metadata": {
    "collapsed": true
   },
   "outputs": [],
   "source": [
    "!cd plan"
   ]
  },
  {
   "cell_type": "markdown",
   "metadata": {},
   "source": [
    "## Recording Changes via Git\n",
    "- \"`git status` shows the status of a repository.\"\n",
    "- \"Files can be stored in a project's working directory (which users see), the staging area (where the next commit is being built up) and the local repository (where commits are permanently recorded).\"\n",
    "- \"`git add` puts files in the staging area.\"\n",
    "- \"`git commit` saves the staged content as a new commit in the local repository.\"\n",
    "- \"Always write a log message when committing changes.\""
   ]
  },
  {
   "cell_type": "code",
   "execution_count": 2,
   "metadata": {},
   "outputs": [
    {
     "name": "stdout",
     "output_type": "stream",
     "text": [
      "/Users/jasonkuruzovich/githubdesktop/techfundamentals-fall2017-materials/classes/01-overview\r\n"
     ]
    }
   ],
   "source": [
    "#First let's make sure we're still in the right directory.\n",
    "#You should be in the `planets` directory.  The command `pwd` will do that.\n",
    "!pwd"
   ]
  },
  {
   "cell_type": "code",
   "execution_count": null,
   "metadata": {
    "collapsed": true
   },
   "outputs": [],
   "source": [
    "!mkdir moons "
   ]
  },
  {
   "cell_type": "markdown",
   "metadata": {},
   "source": [
    "## Git Remote Repositories\n",
    "- \"A local Git repository can be connected to one or more remote repositories.\"\n",
    "- \"Use the HTTPS protocol to connect to remote repositories until you have learned how to set up SSH.\"\n",
    "- \"`git push` copies changes from a local repository to a remote repository.\"\n",
    "- \"`git pull` copies changes from a remote repository to a local repository.\"\n"
   ]
  },
  {
   "cell_type": "markdown",
   "metadata": {},
   "source": [
    "Let's start by sharing the changes we've made to our current project with the\n",
    "world.  Log in to GitHub, then click on the icon in the top right corner to\n",
    "create a new repository called `planets`:\n",
    "\n",
    "![Creating a Repository on GitHub (Step 1)](../fig/github-create-repo-01.png)\n",
    "\n",
    "Name your repository \"planets\" and then click \"Create Repository\":\n",
    "\n",
    "![Creating a Repository on GitHub (Step 2)](../fig/github-create-repo-02.png)\n",
    "\n",
    "As soon as the repository is created, GitHub displays a page with a URL and some\n",
    "information on how to configure your local repository:\n",
    "\n",
    "![Creating a Repository on GitHub (Step 3)](../fig/github-create-repo-03.png)\n",
    "\n",
    "Copy that URL of the repository from the browser, go into the local `planets` repository, and run\n",
    "this command:\n",
    "\n",
    "```\n",
    "$ git remote add origin https://github.com/vlad/planets.git\n",
    "```\n",
    "\n",
    "We can check that the command has worked by running `git remote -v`. The name `origin` is a local nickname for your remote repository. We could use\n",
    "something else if we wanted to, but `origin` is by far the most common choice."
   ]
  },
  {
   "cell_type": "markdown",
   "metadata": {},
   "source": [
    "Once the nickname `origin` is set up, this command will push the changes from\n",
    "our local repository to the repository on GitHub:\n",
    "\n",
    "```\n",
    "$ git push origin master\n",
    "```\n",
    "\n",
    "We can pull changes from the remote repository to the local one as well:\n",
    "\n",
    "```\n",
    "$ git pull origin master\n",
    "```\n"
   ]
  },
  {
   "cell_type": "code",
   "execution_count": null,
   "metadata": {
    "collapsed": true
   },
   "outputs": [],
   "source": []
  },
  {
   "cell_type": "code",
   "execution_count": null,
   "metadata": {
    "collapsed": true
   },
   "outputs": [],
   "source": []
  },
  {
   "cell_type": "markdown",
   "metadata": {},
   "source": [
    "## Github Flow and Group Projects\n",
    "- This is the typical workflow of introducing changes via Git in team projects. \n",
    "- [https://guides.github.com/introduction/flow/](https://guides.github.com/introduction/flow/)\n",
    "![](https://guides.github.com/activities/hello-world/branching.png)"
   ]
  },
  {
   "cell_type": "code",
   "execution_count": null,
   "metadata": {
    "collapsed": true
   },
   "outputs": [],
   "source": []
  }
 ],
 "metadata": {
  "celltoolbar": "Slideshow",
  "kernelspec": {
   "display_name": "Python [tf]",
   "language": "python",
   "name": "Python [tf]"
  },
  "language_info": {
   "codemirror_mode": {
    "name": "ipython",
    "version": 3
   },
   "file_extension": ".py",
   "mimetype": "text/x-python",
   "name": "python",
   "nbconvert_exporter": "python",
   "pygments_lexer": "ipython3",
   "version": "3.5.3"
  }
 },
 "nbformat": 4,
 "nbformat_minor": 2
}
