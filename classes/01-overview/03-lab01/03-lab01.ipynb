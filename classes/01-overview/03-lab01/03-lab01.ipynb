{
 "cells": [
  {
   "cell_type": "markdown",
   "metadata": {},
   "source": [
    "## Lab 01 - Instructions\n",
    "\n",
    "The goal for this lab will be to collect some data from you and get you some experience in working with Github and Jupyter Notebooks. We are going to also learn the basics of loading data into Python. \n"
   ]
  },
  {
   "cell_type": "code",
   "execution_count": 6,
   "metadata": {},
   "outputs": [
    {
     "name": "stdout",
     "output_type": "stream",
     "text": [
      "each row of the reader imported as a: <class 'list'> ['\\ufefffirst-name', 'last-name', 'email-rpi', 'email-other', 'github-userid', 'slack-userid'] \n",
      "\n",
      "each row of the reader imported as a: <class 'list'> ['Jason', 'Kuruzovich', 'kuruzj@rpi.edu', 'jkuruzovich@gmail.com', 'jkuruzovich', 'jason_kuruzovich'] \n",
      "\n"
     ]
    },
    {
     "data": {
      "text/plain": [
       "[['\\ufefffirst-name',\n",
       "  'last-name',\n",
       "  'email-rpi',\n",
       "  'email-other',\n",
       "  'github-userid',\n",
       "  'slack-userid'],\n",
       " ['Jason',\n",
       "  'Kuruzovich',\n",
       "  'kuruzj@rpi.edu',\n",
       "  'jkuruzovich@gmail.com',\n",
       "  'jkuruzovich',\n",
       "  'jason_kuruzovich']]"
      ]
     },
     "execution_count": 6,
     "metadata": {},
     "output_type": "execute_result"
    }
   ],
   "source": [
    "#This is an example of how to import a CSV into a Python list. \n",
    "import csv  #This imports the CSV package.\n",
    "listcsv=[] #This initializes a list data structure.\n",
    "\n",
    "with open('namein.csv', 'r') as data_file:   #The \"with\" incorporates an open and close of file. \n",
    "    csvreader = csv.reader(data_file, delimiter=',')\n",
    "    for row in csvreader:\n",
    "        print(\"each row of the reader imported as a:\", type(row), row,\"\\n\")\n",
    "        listcsv.append(row)\n",
    "listcsv"
   ]
  },
  {
   "cell_type": "code",
   "execution_count": 7,
   "metadata": {},
   "outputs": [
    {
     "data": {
      "text/plain": [
       "'Kuruzovich'"
      ]
     },
     "execution_count": 7,
     "metadata": {},
     "output_type": "execute_result"
    }
   ],
   "source": [
    "#Here is how you update your list.  Updated ALL values.  \n",
    "listcsv[1][1] = \"your first\"   #row/column numbers start at 0\n",
    "listcsv[1][1] = \"your last\"    #row/column numbers start at 0\n"
   ]
  },
  {
   "cell_type": "code",
   "execution_count": null,
   "metadata": {
    "collapsed": true
   },
   "outputs": [],
   "source": [
    "#Update the rest of the values"
   ]
  },
  {
   "cell_type": "markdown",
   "metadata": {},
   "source": [
    "## Writing a Delimited file\n",
    "- Here opening a file with a similar structure.\n",
    "- "
   ]
  },
  {
   "cell_type": "code",
   "execution_count": 16,
   "metadata": {},
   "outputs": [],
   "source": [
    "#Here we are going to save as a tab delimited file\n",
    "with open(\"name.txt\", 'w',newline='') as outfile:\n",
    "    writer = csv.writer(outfile, delimiter='\\t')\n",
    "    writer.writerows(listcsv)"
   ]
  },
  {
   "cell_type": "markdown",
   "metadata": {},
   "source": [
    "## CSV\n",
    "- Comma delimited files are a common way of transmitting data. \n",
    "- Data for different columns is separated by a comma.\n",
    "- Open the CSV file in a "
   ]
  },
  {
   "cell_type": "code",
   "execution_count": 1,
   "metadata": {},
   "outputs": [
    {
     "data": {
      "text/html": [
       "<div>\n",
       "<style>\n",
       "    .dataframe thead tr:only-child th {\n",
       "        text-align: right;\n",
       "    }\n",
       "\n",
       "    .dataframe thead th {\n",
       "        text-align: left;\n",
       "    }\n",
       "\n",
       "    .dataframe tbody tr th {\n",
       "        vertical-align: top;\n",
       "    }\n",
       "</style>\n",
       "<table border=\"1\" class=\"dataframe\">\n",
       "  <thead>\n",
       "    <tr style=\"text-align: right;\">\n",
       "      <th></th>\n",
       "      <th>first-name</th>\n",
       "      <th>last-name</th>\n",
       "      <th>email-rpi</th>\n",
       "      <th>email-other</th>\n",
       "      <th>github-userid</th>\n",
       "      <th>slack-userid</th>\n",
       "    </tr>\n",
       "  </thead>\n",
       "  <tbody>\n",
       "    <tr>\n",
       "      <th>0</th>\n",
       "      <td>Jason</td>\n",
       "      <td>Kuruzovich</td>\n",
       "      <td>kuruzj@rpi.edu</td>\n",
       "      <td>jkuruzovich@gmail.com</td>\n",
       "      <td>jkuruzovich</td>\n",
       "      <td>jason_kuruzovich</td>\n",
       "    </tr>\n",
       "  </tbody>\n",
       "</table>\n",
       "</div>"
      ],
      "text/plain": [
       "  first-name   last-name       email-rpi            email-other github-userid  \\\n",
       "0      Jason  Kuruzovich  kuruzj@rpi.edu  jkuruzovich@gmail.com   jkuruzovich   \n",
       "\n",
       "       slack-userid  \n",
       "0  jason_kuruzovich  "
      ]
     },
     "execution_count": 1,
     "metadata": {},
     "output_type": "execute_result"
    }
   ],
   "source": [
    "# This will load the local name.csv file into a Pandas dataframe.  We will work with these a lot in the future.\n",
    "import pandas as pd # This line imports the pandas package. \n",
    "dfcsv = pd.read_csv('namein.csv')\n",
    "dfcsv"
   ]
  },
  {
   "cell_type": "markdown",
   "metadata": {},
   "source": [
    "## JSON\n",
    "- Javascript object notation.  \n",
    "- This enables multipled layers of nesting, something that could take multiple files in a CSV.\n",
    "- \n"
   ]
  },
  {
   "cell_type": "code",
   "execution_count": 57,
   "metadata": {},
   "outputs": [
    {
     "name": "stdout",
     "output_type": "stream",
     "text": [
      "data is a python object of type:  <class 'dict'> \n",
      "\n",
      "{'student': [{'email-other': 'jkuruzovich@gmail.com',\n",
      "              'email-rpi': 'kuruzj@rpi.edu',\n",
      "              'first-name': 'Jason',\n",
      "              'github-userid': 'jkuruzovich',\n",
      "              'last-name': 'Kuruzovich',\n",
      "              'slack-userid': 'jason_kuruzovich'}]}\n"
     ]
    }
   ],
   "source": [
    "import json   #This imports the JSON\n",
    "from pprint import pprint  #This will print the file in a nested way. \n",
    "\n",
    "with open('name.json') as data_file:   #The \"with\" incorporates an open and close of file.   \n",
    "    datacsv = json.load(data_file)\n",
    "\n",
    "\n",
    "print(\"data is a python object of type: \", type(datacsv),\"\\n\")\n",
    "pprint(datacsv)\n"
   ]
  },
  {
   "cell_type": "code",
   "execution_count": 59,
   "metadata": {},
   "outputs": [
    {
     "name": "stdout",
     "output_type": "stream",
     "text": [
      "{'student': [{'email-other': 'jkuruzovich@gmail.com',\n",
      "              'email-rpi': 'kuruzj@rpi.edu',\n",
      "              'first-name': 'Jason',\n",
      "              'github-userid': 'jkuruzovich',\n",
      "              'last-name': 'Kuruzovich',\n",
      "              'slack-userid': 'jason_kuruzovich'}]}\n"
     ]
    }
   ],
   "source": [
    "#Here is how you update a Diction \n",
    "datacsv['student'][0]['first-name']  = 'Jason'\n",
    "datacsv['student'][0]['last-name']  = 'Kuruzovich'\n",
    "pprint(datacsv)"
   ]
  },
  {
   "cell_type": "code",
   "execution_count": 29,
   "metadata": {
    "collapsed": true
   },
   "outputs": [],
   "source": [
    "import json   #This imports the JSON\n",
    "from pprint import pprint  #This will print the file in a nested way. \n",
    "\n",
    "with open('name.json', 'w') as data_file:   #The \"with\" incorporates an open and close of file.   \n",
    "    json.dump(data, data_file)"
   ]
  },
  {
   "cell_type": "markdown",
   "metadata": {
    "collapsed": true
   },
   "source": [
    "## Parquet Files\n",
    "- CSV files are great for humans to read and understand.  \n",
    "- For \"big data\" though, it isn't a great long term storage option.\n",
    "- [fastparquet](https://fastparquet.readthedocs.io)"
   ]
  },
  {
   "cell_type": "code",
   "execution_count": 4,
   "metadata": {},
   "outputs": [
    {
     "data": {
      "text/html": [
       "<div>\n",
       "<style>\n",
       "    .dataframe thead tr:only-child th {\n",
       "        text-align: right;\n",
       "    }\n",
       "\n",
       "    .dataframe thead th {\n",
       "        text-align: left;\n",
       "    }\n",
       "\n",
       "    .dataframe tbody tr th {\n",
       "        vertical-align: top;\n",
       "    }\n",
       "</style>\n",
       "<table border=\"1\" class=\"dataframe\">\n",
       "  <thead>\n",
       "    <tr style=\"text-align: right;\">\n",
       "      <th></th>\n",
       "      <th>first-name</th>\n",
       "      <th>last-name</th>\n",
       "      <th>email-rpi</th>\n",
       "      <th>email-other</th>\n",
       "      <th>github-userid</th>\n",
       "      <th>slack-userid</th>\n",
       "    </tr>\n",
       "  </thead>\n",
       "  <tbody>\n",
       "    <tr>\n",
       "      <th>0</th>\n",
       "      <td>Jason</td>\n",
       "      <td>Kuruzovich</td>\n",
       "      <td>kuruzj@rpi.edu</td>\n",
       "      <td>jkuruzovich@gmail.com</td>\n",
       "      <td>jkuruzovich</td>\n",
       "      <td>jason_kuruzovich</td>\n",
       "    </tr>\n",
       "  </tbody>\n",
       "</table>\n",
       "</div>"
      ],
      "text/plain": [
       "  first-name   last-name       email-rpi            email-other github-userid  \\\n",
       "0      Jason  Kuruzovich  kuruzj@rpi.edu  jkuruzovich@gmail.com   jkuruzovich   \n",
       "\n",
       "       slack-userid  \n",
       "0  jason_kuruzovich  "
      ]
     },
     "execution_count": 4,
     "metadata": {},
     "output_type": "execute_result"
    }
   ],
   "source": [
    "from fastparquet import ParquetFile\n",
    "pf = ParquetFile('namein.parq')\n",
    "dfparq = pf.to_pandas()\n",
    "dfparq"
   ]
  },
  {
   "cell_type": "code",
   "execution_count": 2,
   "metadata": {
    "collapsed": true
   },
   "outputs": [],
   "source": [
    "from fastparquet import write\n",
    "write('nameout.parq', dfcsv)"
   ]
  },
  {
   "cell_type": "markdown",
   "metadata": {},
   "source": [
    "\n",
    "This work is licensed under the [Creative Commons Attribution 4.0 International](https://creativecommons.org/licenses/by/4.0/) license agreement."
   ]
  }
 ],
 "metadata": {
  "anaconda-cloud": {
   "attach-environment": true,
   "environment": "py3k",
   "summary": "A test Jupyter notebook to verify local Python Environment.",
   "url": "https://anaconda.org/analyticsdojo/local-intro"
  },
  "kernelspec": {
   "display_name": "Python [tf]",
   "language": "python",
   "name": "Python [tf]"
  },
  "language_info": {
   "codemirror_mode": {
    "name": "ipython",
    "version": 3
   },
   "file_extension": ".py",
   "mimetype": "text/x-python",
   "name": "python",
   "nbconvert_exporter": "python",
   "pygments_lexer": "ipython3",
   "version": "3.5.3"
  }
 },
 "nbformat": 4,
 "nbformat_minor": 1
}
