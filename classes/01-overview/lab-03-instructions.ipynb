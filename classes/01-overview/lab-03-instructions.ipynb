{
 "cells": [
  {
   "cell_type": "markdown",
   "metadata": {},
   "source": [
    "### Homework Submission Instructions\n",
    "These are instructions for completing the first lab. We will be using [Github Classroom](https://classroom.github.com) to distribute and collect all assignments.  This is new for this semester so expect some bumps. \n",
    "\n",
    "The advantage to this is that you will be learning to work with real tools while submitting assignments. \n",
    "\n",
    "*Note: As a student you are welcome to a really cool student developer pack that even faculty don't qualify for. You can download it at [https://education.github.com/pack](https://education.github.com/pack).*\n",
    "\n",
    "The steps below assume you have already created a GitHub ID and Slack ID. \n"
   ]
  },
  {
   "cell_type": "markdown",
   "metadata": {},
   "source": [
    "### Step 1: Create the starter repository under your GitHub ID. \n",
    "- By clicking on the link in the class website github will automatically create a starter private repository for you under the class organization. \n"
   ]
  },
  {
   "cell_type": "markdown",
   "metadata": {},
   "source": [
    "### Step 2: Clone the starter repository locally\n",
    "- "
   ]
  }
 ],
 "metadata": {
  "kernelspec": {
   "display_name": "Python [tf]",
   "language": "python",
   "name": "Python [tf]"
  },
  "language_info": {
   "codemirror_mode": {
    "name": "ipython",
    "version": 3
   },
   "file_extension": ".py",
   "mimetype": "text/x-python",
   "name": "python",
   "nbconvert_exporter": "python",
   "pygments_lexer": "ipython3",
   "version": "3.5.3"
  }
 },
 "nbformat": 4,
 "nbformat_minor": 2
}
