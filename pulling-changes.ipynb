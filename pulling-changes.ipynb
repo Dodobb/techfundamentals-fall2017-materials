{
 "cells": [
  {
   "cell_type": "markdown",
   "metadata": {},
   "source": [
    "## Check Current Directory\n",
    "The `pwd` command will checking you are entering commands from the appropriate directory. \n",
    "\n",
    "This should output '/home/jovyan/techfundamentals-fall2017-materials.'   "
   ]
  },
  {
   "cell_type": "code",
   "execution_count": 1,
   "metadata": {},
   "outputs": [
    {
     "name": "stdout",
     "output_type": "stream",
     "text": [
      "/home/jovyan/techfundamentals-fall2017-materials\n"
     ]
    }
   ],
   "source": [
    "%%bash\n",
    "pwd"
   ]
  },
  {
   "cell_type": "markdown",
   "metadata": {},
   "source": [
    "## Simple Pulling of Changes from Github Repository\n",
    "This could work in many cases. But you will find that it will likely fail if you have actively run through some examples.  I've committed some of the files that were previously changed. This is one challenge in working with Jupyter notebooks, as they are subject to issues. \n"
   ]
  },
  {
   "cell_type": "code",
   "execution_count": 2,
   "metadata": {},
   "outputs": [
    {
     "name": "stdout",
     "output_type": "stream",
     "text": [
      "Updating 8ba2b16..2d3de25\n"
     ]
    },
    {
     "name": "stderr",
     "output_type": "stream",
     "text": [
      "From https://github.com/jkuruzovich/techfundamentals-fall2017-materials\n",
      "   8ba2b16..2d3de25  master     -> origin/master\n",
      "error: Your local changes to the following files would be overwritten by merge:\n",
      "\tclasses/01-overview/01-notebook-basics/Notebook/01-What is the Jupyter Notebook.ipynb\n",
      "\tclasses/01-overview/02-version-control.ipynb\n",
      "Please, commit your changes or stash them before you can merge.\n",
      "Aborting\n"
     ]
    }
   ],
   "source": [
    "%%bash\n",
    "git pull"
   ]
  },
  {
   "cell_type": "markdown",
   "metadata": {
    "collapsed": true
   },
   "source": [
    "## Stash Changes and then Pull\n",
    "Because the materials directory is not used for assignments, it should be OK to go through and wipe out your local changes.   \n",
    "\n",
    "Here is a bit of a more detailed description though of how to \n",
    "\n",
    "Type 1. Staged Tracked files\n",
    "Type 2. Unstaged Tracked files\n",
    "Type 3. Unstaged UnTracked files a.k.a UnTracked files\n",
    "\n",
    "Staged - Those that are moved to staging area/ Added to index\n",
    "Tracked - modified files\n",
    "UnTracked - new files. Always unstaged. If staged, that means they are tracked.\n",
    "\n",
    "What each commands do:\n",
    "git checkout . - Removes Unstaged Tracked files ONLY [Type 2]\n",
    "git clean -f - Removes Unstaged UnTracked files ONLY [Type 3]\n",
    "git reset --hard - Removes Staged Tracked and UnStaged Tracked files ONLY[Type 1, Type 2]\n",
    "git stash -u - Removes all changes [Type 1, Type 2, Type 3]\n",
    "\n",
    "** Warning: This will discard the local changes and pull the new files. **"
   ]
  },
  {
   "cell_type": "code",
   "execution_count": null,
   "metadata": {
    "collapsed": true
   },
   "outputs": [],
   "source": [
    "%%bash\n",
    "git stash -u\n",
    "git pull"
   ]
  }
 ],
 "metadata": {
  "anaconda-cloud": {},
  "kernelspec": {
   "display_name": "Python [conda root]",
   "language": "python",
   "name": "conda-root-py"
  },
  "language_info": {
   "codemirror_mode": {
    "name": "ipython",
    "version": 3
   },
   "file_extension": ".py",
   "mimetype": "text/x-python",
   "name": "python",
   "nbconvert_exporter": "python",
   "pygments_lexer": "ipython3",
   "version": "3.5.2"
  }
 },
 "nbformat": 4,
 "nbformat_minor": 2
}
